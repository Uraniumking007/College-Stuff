{
 "cells": [
  {
   "cell_type": "markdown",
   "id": "205a12b7",
   "metadata": {},
   "source": [
    "## **Instructions**\n",
    "- Write Python programs for each of the following tasks.\n",
    "- Use functions and classes where applicable.\n",
    "- Add comments to explain your code."
   ]
  },
  {
   "cell_type": "markdown",
   "id": "a6931497",
   "metadata": {},
   "source": [
    "## **1. Implement a Singly Linked List**\n",
    "Implement a singly linked list with the following operations:\n",
    "- `insert(value)`: Insert a node at the end.\n",
    "- `delete(value)`: Delete a node by value.\n",
    "- `traverse()`: Print all elements in the linked list."
   ]
  },
  {
   "cell_type": "code",
   "execution_count": 1,
   "id": "dbf08131",
   "metadata": {},
   "outputs": [],
   "source": [
    "class Node:\n",
    "    def __init__(self, data):\n",
    "        self.data = data\n",
    "        self.next = None\n",
    "\n",
    "class SingleLinkedList:\n",
    "    def __init__(self):\n",
    "        self.head = None\n",
    "    \n",
    "    # Insert a new node at the end of the list\n",
    "    def insert(self, data):\n",
    "        new_node = Node(data)\n",
    "        if self.head is None:\n",
    "            self.head = new_node\n",
    "        else:\n",
    "            new_node.next = self.head\n",
    "            self.head = new_node\n",
    "\n",
    "    # Insert a new node at the end of the list\n",
    "    def delete(self,data):\n",
    "        current = self.head\n",
    "        prev = None\n",
    "        while current:\n",
    "            if current.data == data:\n",
    "                if prev:\n",
    "                    prev.next = current.next\n",
    "                else:\n",
    "                    self.head = current.next\n",
    "                return\n",
    "            prev = current\n",
    "            current = current.next\n",
    "        return False\n",
    "\n",
    "    # Traverse the list\n",
    "    def traverse(self):\n",
    "        current = self.head\n",
    "        while current:\n",
    "            print(current.data,end='-->')\n",
    "            current = current.next\n",
    "            if current is None:\n",
    "                print('None')\n",
    "                break\n",
    "    "
   ]
  },
  {
   "cell_type": "code",
   "execution_count": 2,
   "id": "8b1f59d8",
   "metadata": {},
   "outputs": [
    {
     "name": "stdout",
     "output_type": "stream",
     "text": [
      "5-->4-->3-->2-->1-->None\n",
      "5-->4-->2-->1-->None\n"
     ]
    }
   ],
   "source": [
    "# Using the linked list\n",
    "\n",
    "\n",
    "# Create a linked list\n",
    "ll = SingleLinkedList()\n",
    "ll.insert(1)\n",
    "ll.insert(2)\n",
    "ll.insert(3)\n",
    "ll.insert(4)\n",
    "ll.insert(5)\n",
    "\n",
    "# Print the linked list\n",
    "ll.traverse()\n",
    "\n",
    "# Delete a value\n",
    "ll.delete(3)\n",
    "ll.traverse()\n",
    "\n"
   ]
  },
  {
   "cell_type": "markdown",
   "id": "fea6ef43",
   "metadata": {},
   "source": [
    "## **2. Reverse a Linked List**\n",
    "Write a function to reverse a given singly linked list.\n"
   ]
  },
  {
   "cell_type": "code",
   "execution_count": 3,
   "id": "fa43a3b6",
   "metadata": {},
   "outputs": [],
   "source": [
    "def reverse(ll: SingleLinkedList):\n",
    "    if ll.head is None:\n",
    "        return\n",
    "    current = ll.head\n",
    "    prev = None\n",
    "\n",
    "    # Traverse the list and reverse the links\n",
    "    while current:\n",
    "        next = current.next\n",
    "        current.next = prev\n",
    "        prev = current\n",
    "        current = next\n",
    "    ll.head = prev"
   ]
  },
  {
   "cell_type": "code",
   "execution_count": 4,
   "id": "cf562bad",
   "metadata": {},
   "outputs": [
    {
     "name": "stdout",
     "output_type": "stream",
     "text": [
      "5-->4-->2-->1-->None\n",
      "1-->2-->4-->5-->None\n"
     ]
    }
   ],
   "source": [
    "# Reverse the linked list\n",
    "\n",
    "ll.traverse()\n",
    "reverse(ll)\n",
    "ll.traverse()"
   ]
  },
  {
   "cell_type": "markdown",
   "id": "ae868a3c",
   "metadata": {},
   "source": [
    "## **3. Detect a Cycle in a Linked List**\n",
    "Implement Floyd’s Cycle Detection Algorithm to determine whether a given linked list has a cycle.\n",
    "\n"
   ]
  },
  {
   "cell_type": "code",
   "execution_count": 5,
   "id": "197cedf4",
   "metadata": {},
   "outputs": [],
   "source": [
    "# Detect a cycle in the linked list\n",
    "def has_cycle(ll: SingleLinkedList):\n",
    "    # Floyd's cycle detection algorithm\n",
    "    slow = ll.head\n",
    "    fast = ll.head\n",
    "\n",
    "    # Traverse the list\n",
    "    while fast and fast.next:\n",
    "        # Move slow pointer by one step\n",
    "        slow = slow.next\n",
    "        # Move fast pointer by two steps\n",
    "        fast = fast.next.next\n",
    "\n",
    "        # If slow and fast pointers meet, then there is a cycle\n",
    "        if slow == fast:\n",
    "            return True\n",
    "\n",
    "    return False"
   ]
  },
  {
   "cell_type": "code",
   "execution_count": 6,
   "id": "8d4ed4a1",
   "metadata": {},
   "outputs": [
    {
     "data": {
      "text/plain": [
       "False"
      ]
     },
     "execution_count": 6,
     "metadata": {},
     "output_type": "execute_result"
    }
   ],
   "source": [
    "# Create a cycle in the linked list\n",
    "has_cycle(ll)"
   ]
  },
  {
   "cell_type": "markdown",
   "id": "e06e78dc",
   "metadata": {},
   "source": [
    "## **4. Merge Two Sorted Linked Lists**\n",
    "Given two sorted linked lists, merge them into one sorted linked list and return the head of the merged list.\n"
   ]
  },
  {
   "cell_type": "code",
   "execution_count": 7,
   "id": "72b77669",
   "metadata": {},
   "outputs": [],
   "source": [
    "# Merge two sorted linked lists\n",
    "def merge_sorted_lists(ll1: SingleLinkedList, ll2: SingleLinkedList) -> Node:\n",
    "    # Create a dummy node\n",
    "    dummy = Node(0)\n",
    "    tail = dummy\n",
    "\n",
    "    # Traverse both lists\n",
    "    l1 = ll1.head\n",
    "    l2 = ll2.head\n",
    "\n",
    "    # Compare the nodes and merge\n",
    "    while l1 and l2:\n",
    "        if l1.data > l2.data:\n",
    "            tail.next = l1\n",
    "            l1 = l1.next\n",
    "        else:\n",
    "            tail.next = l2\n",
    "            l2 = l2.next\n",
    "        tail = tail.next\n",
    "    # Merge the remaining nodes\n",
    "    tail.next = l1 if l1 else l2\n",
    "    # Create a new linked list\n",
    "    merged_list = SingleLinkedList()\n",
    "    merged_list.head = dummy.next\n",
    "    return merged_list.head\n"
   ]
  },
  {
   "cell_type": "markdown",
   "id": "163344f7",
   "metadata": {},
   "source": [
    "## **5. Find the Middle Node of a Linked List**\n",
    "Implement a function to find and return the middle node of a singly linked list.\n"
   ]
  },
  {
   "cell_type": "code",
   "execution_count": 8,
   "id": "442715a5",
   "metadata": {},
   "outputs": [
    {
     "name": "stdout",
     "output_type": "stream",
     "text": [
      "8-->7-->6-->5-->4-->3-->2-->1-->None\n"
     ]
    }
   ],
   "source": [
    "# Create two sorted linked lists\n",
    "l1 = SingleLinkedList()\n",
    "l1.insert(5)\n",
    "l1.insert(6)\n",
    "l1.insert(7)\n",
    "l1.insert(8)\n",
    "l2 = SingleLinkedList()\n",
    "l2.insert(1)\n",
    "l2.insert(2)\n",
    "l2.insert(3)\n",
    "l2.insert(4)\n",
    "\n",
    "# Merge the linked lists\n",
    "merged = merge_sorted_lists(l1, l2)\n",
    "\n",
    "# Print the merged linked list\n",
    "while merged:\n",
    "    print(merged.data, end='-->')\n",
    "    merged = merged.next\n",
    "print('None')"
   ]
  },
  {
   "cell_type": "markdown",
   "id": "06e67992",
   "metadata": {},
   "source": [
    "## **5. Find the Middle Node of a Linked List**\n",
    "Implement a function to find and return the middle node of a singly linked list.\n"
   ]
  },
  {
   "cell_type": "code",
   "execution_count": 9,
   "id": "289fc45b",
   "metadata": {},
   "outputs": [],
   "source": [
    "def find_middle(ll: SingleLinkedList):\n",
    "    slow = ll.head\n",
    "    fast = ll.head\n",
    "\n",
    "    # Move fast by two and slow by one until fast reaches the end of the list\n",
    "    while fast and fast.next:\n",
    "        slow = slow.next\n",
    "        fast = fast.next.next\n",
    "    return slow"
   ]
  },
  {
   "cell_type": "code",
   "execution_count": 10,
   "id": "e9c48e5d",
   "metadata": {},
   "outputs": [
    {
     "name": "stdout",
     "output_type": "stream",
     "text": [
      "Middle node data: 4\n"
     ]
    }
   ],
   "source": [
    "# Find the middle node of the linked list\n",
    "middle_node = find_middle(ll)\n",
    "\n",
    "# Print the middle node\n",
    "if middle_node:\n",
    "    print(\"Middle node data:\", middle_node.data)\n",
    "else:\n",
    "    print(\"The linked list is empty.\")"
   ]
  },
  {
   "cell_type": "markdown",
   "id": "b2f8080c",
   "metadata": {},
   "source": [
    "## **6. Implement a Stack Using a List**\n",
    "Create a Python class to implement a stack with the following methods:\n",
    "- `push(value)`: Add an element to the stack.\n",
    "- `pop()`: Remove the top element.\n",
    "- `peek()`: Return the top element without removing it.\n",
    "- `is_empty()`: Check if the stack is empty.\n",
    "- `size()`: Return the number of elements in the stack.\n"
   ]
  },
  {
   "cell_type": "code",
   "execution_count": 11,
   "id": "eff8154f",
   "metadata": {},
   "outputs": [],
   "source": [
    "class Stack:\n",
    "    def __init__(self):\n",
    "        # Initialize an empty list to store stack elements\n",
    "        self.items = []\n",
    "\n",
    "    def push(self, value):\n",
    "        # Append the value to the end of the list\n",
    "        self.items.append(value)\n",
    "\n",
    "    def pop(self):\n",
    "        # Remove and return the last element if the list is not empty\n",
    "        if self.is_empty():\n",
    "            return None\n",
    "        return self.items.pop()\n",
    "\n",
    "    def peek(self):\n",
    "        # Return the last element without removing it\n",
    "        if self.is_empty():\n",
    "            return None\n",
    "        return self.items[-1]\n",
    "\n",
    "    def is_empty(self):\n",
    "        # The stack is empty if the list has no elements\n",
    "        return len(self.items) == 0\n",
    "\n",
    "    def size(self):\n",
    "        # Return the number of elements in the stack\n",
    "        return len(self.items)"
   ]
  },
  {
   "cell_type": "code",
   "execution_count": 12,
   "id": "64623e84",
   "metadata": {},
   "outputs": [
    {
     "name": "stdout",
     "output_type": "stream",
     "text": [
      "Stack size: 4\n",
      "4\n",
      "3\n",
      "Top element: 2\n",
      "Is the stack empty? False\n"
     ]
    }
   ],
   "source": [
    "# Create a stack\n",
    "stack = Stack()\n",
    "\n",
    "# Push elements to the stack\n",
    "stack.push(1)\n",
    "stack.push(2)\n",
    "stack.push(3)\n",
    "stack.push(4)\n",
    "\n",
    "# Print the stack size\n",
    "print(\"Stack size:\", stack.size())\n",
    "\n",
    "# Pop elements from the stack\n",
    "print(stack.pop())\n",
    "print(stack.pop())\n",
    "\n",
    "# Print the top element of the stack\n",
    "print(\"Top element:\", stack.peek())\n",
    "\n",
    "# Check if the stack is empty\n",
    "print(\"Is the stack empty?\", stack.is_empty())"
   ]
  },
  {
   "cell_type": "markdown",
   "id": "0eca83ef",
   "metadata": {},
   "source": [
    "## **7. Implement a Stack Using a Linked List**\n",
    "Create a stack implementation where elements are stored in a linked list instead of a Python list.\n"
   ]
  },
  {
   "cell_type": "code",
   "execution_count": 13,
   "id": "65653f47",
   "metadata": {},
   "outputs": [],
   "source": [
    "class LinkedListStack:\n",
    "    def __init__(self):\n",
    "        # Top of the stack (linked list head)\n",
    "        self.top = None\n",
    "        self.count = 0\n",
    "\n",
    "    def push(self, value):\n",
    "        # Create a new node with the provided value\n",
    "        new_node = Node(value)\n",
    "        new_node.next = self.top\n",
    "        self.top = new_node\n",
    "        self.count += 1\n",
    "\n",
    "    def pop(self):\n",
    "        if self.is_empty():\n",
    "            return None\n",
    "        popped_value = self.top.data\n",
    "        self.top = self.top.next\n",
    "        self.count -= 1\n",
    "        return popped_value\n",
    "\n",
    "    def peek(self):\n",
    "        if self.is_empty():\n",
    "            return None\n",
    "        return self.top.data\n",
    "\n",
    "    def is_empty(self):\n",
    "        return self.top is None\n",
    "\n",
    "    def size(self):\n",
    "        return self.count\n",
    "\n",
    "    def traverse(self):\n",
    "        # Traverse and print the stack from top to bottom\n",
    "        current = self.top\n",
    "        while current:\n",
    "            print(current.data, end=\" --> \")\n",
    "            current = current.next\n",
    "        print(\"None\")"
   ]
  },
  {
   "cell_type": "code",
   "execution_count": 14,
   "id": "505a4dec",
   "metadata": {},
   "outputs": [
    {
     "name": "stdout",
     "output_type": "stream",
     "text": [
      "Stack size: 4\n",
      "4\n",
      "3\n",
      "Top element: 2\n",
      "Is the stack empty? False\n"
     ]
    }
   ],
   "source": [
    "# Create a stack\n",
    "stack = LinkedListStack()\n",
    "\n",
    "# Push elements to the stack\n",
    "stack.push(1)\n",
    "stack.push(2)\n",
    "stack.push(3)\n",
    "stack.push(4)\n",
    "\n",
    "# Print the stack size\n",
    "print(\"Stack size:\", stack.size())\n",
    "\n",
    "# Pop elements from the stack\n",
    "print(stack.pop())\n",
    "print(stack.pop())\n",
    "\n",
    "# Print the top element of the stack\n",
    "print(\"Top element:\", stack.peek())\n",
    "\n",
    "# Check if the stack is empty\n",
    "print(\"Is the stack empty?\", stack.is_empty())"
   ]
  },
  {
   "cell_type": "markdown",
   "id": "6cd089e4",
   "metadata": {},
   "source": [
    "## **8. Check for Balanced Parentheses Using Stack**\n",
    "Given a string containing `()[]{}`, write a function that checks if the parentheses are balanced using a stack.\n",
    "\n"
   ]
  },
  {
   "cell_type": "code",
   "execution_count": 15,
   "id": "12aeaea0",
   "metadata": {},
   "outputs": [],
   "source": [
    "def is_balanced(s: str) -> bool:\n",
    "    # Dictionary to hold matching pairs\n",
    "    pairs = {')': '(', ']': '[', '}': '{'}\n",
    "    # Use a list as stack\n",
    "    stack = []\n",
    "\n",
    "    # Iterate over each character in the string\n",
    "    for char in s:\n",
    "        # If the character is an opening bracket, push it onto the stack\n",
    "        if char in \"([{\":\n",
    "            stack.append(char)\n",
    "        # If it's a closing bracket, check if the stack is not empty and the top matches\n",
    "        elif char in \")]}\":\n",
    "            if not stack or stack.pop() != pairs[char]:\n",
    "                return False\n",
    "    # If the stack is empty, all the brackets matched; otherwise they are unbalanced\n",
    "    return not stack"
   ]
  },
  {
   "cell_type": "code",
   "execution_count": 16,
   "id": "e6ed4856",
   "metadata": {},
   "outputs": [
    {
     "name": "stdout",
     "output_type": "stream",
     "text": [
      "True\n",
      "False\n",
      "True\n"
     ]
    }
   ],
   "source": [
    "test_str1 = \"([]){}\"\n",
    "test_str2 = \"([)]\"\n",
    "test_str3 = \"((()))\"\n",
    "\n",
    "print(is_balanced(test_str1))\n",
    "print(is_balanced(test_str2))\n",
    "print(is_balanced(test_str3))"
   ]
  },
  {
   "cell_type": "markdown",
   "id": "8f743d1b",
   "metadata": {},
   "source": [
    "## **9. Implement a Stack That Supports Get Minimum in O(1) Time**\n",
    "Design a stack that supports `push()`, `pop()`, and retrieving the minimum element in constant time.\n",
    "\n"
   ]
  },
  {
   "cell_type": "code",
   "execution_count": 17,
   "id": "2b1d8af5",
   "metadata": {},
   "outputs": [],
   "source": [
    "class MinStack:\n",
    "    def __init__(self):\n",
    "        # Main stack to store all the elements\n",
    "        self.stack = []\n",
    "        # Auxiliary stack to keep track of minimum elements\n",
    "        self.min_stack = []\n",
    "\n",
    "    def push(self, value):\n",
    "        # Push the value onto the main stack\n",
    "        self.stack.append(value)\n",
    "        # If min_stack is empty or the new value is less than or equal to the current minimum,\n",
    "        # push it onto the min_stack as well.\n",
    "        if not self.min_stack or value <= self.min_stack[-1]:\n",
    "            self.min_stack.append(value)\n",
    "\n",
    "    def pop(self):\n",
    "        # If the stack is empty, return None\n",
    "        if not self.stack:\n",
    "            return None\n",
    "        value = self.stack.pop()\n",
    "        # If the popped value is the current minimum, pop it from the min_stack as well\n",
    "        if value == self.min_stack[-1]:\n",
    "            self.min_stack.pop()\n",
    "        return value\n",
    "\n",
    "    def get_min(self):\n",
    "        # Return the current minimum element in constant time; if stack is empty, return None.\n",
    "        if not self.min_stack:\n",
    "            return None\n",
    "        return self.min_stack[-1]"
   ]
  },
  {
   "cell_type": "code",
   "execution_count": 18,
   "id": "f3d26729",
   "metadata": {},
   "outputs": [
    {
     "name": "stdout",
     "output_type": "stream",
     "text": [
      "Minimum: 1\n",
      "Minimum after pops: 2\n"
     ]
    }
   ],
   "source": [
    "min_stack = MinStack()\n",
    "min_stack.push(5)\n",
    "min_stack.push(2)\n",
    "min_stack.push(4)\n",
    "min_stack.push(1)\n",
    "min_stack.push(3)\n",
    "\n",
    "print(\"Minimum:\", min_stack.get_min())\n",
    "\n",
    "min_stack.pop()\n",
    "min_stack.pop()\n",
    "\n",
    "print(\"Minimum after pops:\", min_stack.get_min())"
   ]
  },
  {
   "cell_type": "markdown",
   "id": "0bb922b5",
   "metadata": {},
   "source": [
    "## **10. Implement a Queue Using a List**\n",
    "Write a Python class to implement a queue using a list with methods for:\n",
    "- `enqueue(value)`: Add an element to the queue.\n",
    "- `dequeue()`: Remove the front element.\n",
    "- `is_empty()`: Check if the queue is empty.\n",
    "- `size()`: Return the number of elements in the queue."
   ]
  },
  {
   "cell_type": "code",
   "execution_count": 19,
   "id": "39f10454",
   "metadata": {},
   "outputs": [],
   "source": [
    "class Queue:\n",
    "    def __init__(self):\n",
    "        # Initialize the queue using a list\n",
    "        self.queue = []\n",
    "\n",
    "    def enqueue(self, value):\n",
    "        # Append value to the end of the list (enqueue)\n",
    "        self.queue.append(value)\n",
    "\n",
    "    def dequeue(self):\n",
    "        # Remove and return the first element in the list (dequeue)\n",
    "        if self.is_empty():\n",
    "            return None\n",
    "        return self.queue.pop(0)\n",
    "\n",
    "    def is_empty(self):\n",
    "        # Check if the queue is empty\n",
    "        return len(self.queue) == 0\n",
    "\n",
    "    def size(self):\n",
    "        # Return the number of elements in the queue\n",
    "        return len(self.queue)"
   ]
  },
  {
   "cell_type": "code",
   "execution_count": 20,
   "id": "db089751",
   "metadata": {},
   "outputs": [
    {
     "name": "stdout",
     "output_type": "stream",
     "text": [
      "Queue size: 3\n",
      "Dequeued: 1\n",
      "Queue size after dequeue: 2\n",
      "Is the queue empty? False\n"
     ]
    }
   ],
   "source": [
    "q = Queue()\n",
    "q.enqueue(1)\n",
    "q.enqueue(2)\n",
    "q.enqueue(3)\n",
    "print(\"Queue size:\", q.size())\n",
    "\n",
    "print(\"Dequeued:\", q.dequeue())\n",
    "print(\"Queue size after dequeue:\", q.size())\n",
    "print(\"Is the queue empty?\", q.is_empty())"
   ]
  },
  {
   "cell_type": "markdown",
   "id": "31b6ecf5",
   "metadata": {},
   "source": [
    "### **Submission Instructions**\n",
    "- Write your solutions in Python.\n",
    "- Rename the ipynb file as `yourname_Assignment Linked List, Stack, and Queue in Python`\n",
    "- Test each function and class implementation.\n",
    "- Submit the `.ipynb` file containing all solutions. and put it into given drive link:\n",
    "\n",
    "https://drive.google.com/drive/folders/1qRRJx0CslW_GAEl5CWcqGvXy2DzUbEIw?usp=sharing"
   ]
  },
  {
   "cell_type": "code",
   "execution_count": null,
   "id": "616253a6",
   "metadata": {},
   "outputs": [],
   "source": []
  }
 ],
 "metadata": {
  "kernelspec": {
   "display_name": "ckpcet_custom",
   "language": "python",
   "name": "python3"
  },
  "language_info": {
   "codemirror_mode": {
    "name": "ipython",
    "version": 3
   },
   "file_extension": ".py",
   "mimetype": "text/x-python",
   "name": "python",
   "nbconvert_exporter": "python",
   "pygments_lexer": "ipython3",
   "version": "3.12.9"
  }
 },
 "nbformat": 4,
 "nbformat_minor": 5
}
