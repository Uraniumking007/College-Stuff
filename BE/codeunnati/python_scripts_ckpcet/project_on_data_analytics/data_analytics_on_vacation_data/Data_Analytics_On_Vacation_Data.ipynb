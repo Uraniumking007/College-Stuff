{
 "cells": [
  {
   "cell_type": "markdown",
   "id": "a0583c3e-67fc-4395-b6d8-e8eabf91ac2d",
   "metadata": {},
   "source": [
    "# Data Analysis on Vacation Data\n",
    "\n",
    "### In this analysis we are going to describe the behaviour of multiple vacation plans."
   ]
  },
  {
   "cell_type": "markdown",
   "id": "5a48dc4b-65c0-4291-b9f7-83bf84b77025",
   "metadata": {},
   "source": [
    "### import required libraries"
   ]
  },
  {
   "cell_type": "code",
   "execution_count": 3,
   "id": "f0066ac7-83fb-4cb7-a9e6-2922f224e9c8",
   "metadata": {},
   "outputs": [
    {
     "name": "stdout",
     "output_type": "stream",
     "text": [
      "2.2.2\n"
     ]
    }
   ],
   "source": [
    "# import pandas as pd\n",
    "import pandas as pd\n",
    "\n",
    "# import numpy\n",
    "\n",
    "import numpy as np\n",
    "\n",
    "# import matplotlib =>\n",
    "\n",
    "import matplotlib.pyplot as plt\n",
    "\n",
    "# import seaborn\n",
    "\n",
    "import seaborn as sns\n",
    "\n",
    "print(np.__version__)"
   ]
  },
  {
   "cell_type": "code",
   "execution_count": 4,
   "id": "f7af1c6b",
   "metadata": {},
   "outputs": [],
   "source": [
    "# misc Functions\n",
    "\n",
    "def to_fixed(num, digits=0):\n",
    "    return float(round(num, digits))\n",
    "\n",
    "# Plot the Data\n",
    "def plot_bar_chart(counts: pd.Series, title: str, xlabel: str, ylabel: str, rotationValue: int):\n",
    "    ax = counts.plot(kind='bar',color='#9c6644',title='Not Care about Prices Distribution',grid=True)\n",
    "    plt.title(title)\n",
    "    plt.xlabel(xlabel)\n",
    "    plt.ylabel(ylabel)\n",
    "    plt.xticks(rotation=rotationValue)\n",
    "    plt.bar_label(ax.containers[0])\n",
    "    plt.show()"
   ]
  },
  {
   "cell_type": "markdown",
   "id": "bfb6f4e4-57a2-4d77-a24d-b5217347f801",
   "metadata": {},
   "source": [
    "# Load the Data"
   ]
  },
  {
   "cell_type": "code",
   "execution_count": 5,
   "id": "cb836463-b3fd-413e-8d43-2bc17fc78d73",
   "metadata": {},
   "outputs": [
    {
     "name": "stdout",
     "output_type": "stream",
     "text": [
      "<class 'pandas.core.frame.DataFrame'>\n"
     ]
    }
   ],
   "source": [
    "# Load the data file we have in folder\n",
    "\n",
    "df_vacation_data = pd.read_excel(\"vacation data.xlsx\")\n",
    "\n",
    "print(type(df_vacation_data))"
   ]
  },
  {
   "cell_type": "markdown",
   "id": "0925e198",
   "metadata": {},
   "source": [
    "# Data Overview"
   ]
  },
  {
   "cell_type": "code",
   "execution_count": 6,
   "id": "31fc763f",
   "metadata": {},
   "outputs": [
    {
     "name": "stdout",
     "output_type": "stream",
     "text": [
      "   Gender  Age  Education                  Occupation State  \\\n",
      "0  Female   25        6.0  Clerical or service worker   VIC   \n",
      "1  Female   31        8.0                professional    WA   \n",
      "2    Male   21        3.0                         NaN   NSW   \n",
      "3  Female   18        2.0                  unemployed   NSW   \n",
      "4    Male   61        3.0                     retired    WA   \n",
      "\n",
      "  Relationship_Status  Obligation_Rating Obligation_Category       NEP  \\\n",
      "0              single           4.800000                  Q4  3.200000   \n",
      "1             married           3.300000                  Q1  3.400000   \n",
      "2              single           3.400000                  Q2  3.066667   \n",
      "3              single           2.633333                  Q1  3.400000   \n",
      "4             married           3.400000                  Q2  3.733333   \n",
      "\n",
      "   Vacation_Behaviour  ... Life_style_of_the_local_people  \\\n",
      "0            2.066667  ...                             no   \n",
      "1            2.000000  ...                            yes   \n",
      "2            1.233333  ...                            yes   \n",
      "3            2.166667  ...                             no   \n",
      "4            1.724138  ...                            yes   \n",
      "\n",
      "  Intense_Experience_of_Nature Cosiness_or_Familiar_Atmosphere  \\\n",
      "0                           no                              no   \n",
      "1                           no                              no   \n",
      "2                           no                             yes   \n",
      "3                          yes                              no   \n",
      "4                           no                              no   \n",
      "\n",
      "  Maintain_Unspoilt_Surroundings Everything_Organised  \\\n",
      "0                             no                   no   \n",
      "1                             no                   no   \n",
      "2                             no                   no   \n",
      "3                             no                   no   \n",
      "4                            yes                   no   \n",
      "\n",
      "  Unspoilt_Nature_or_Natural_Landscape Cultural_Offers Change_of_Surroundings  \\\n",
      "0                                   no              no                     no   \n",
      "1                                   no              no                    yes   \n",
      "2                                   no             yes                     no   \n",
      "3                                   no              no                    yes   \n",
      "4                                   no              no                     no   \n",
      "\n",
      "  Income_Doller_k Expenditure_Doller_k  \n",
      "0            15.0                 39.0  \n",
      "1            15.0                 81.0  \n",
      "2            16.0                  6.0  \n",
      "3            16.0                 77.0  \n",
      "4            17.0                 40.0  \n",
      "\n",
      "[5 rows x 32 columns]\n"
     ]
    }
   ],
   "source": [
    "print(df_vacation_data.head())"
   ]
  },
  {
   "cell_type": "code",
   "execution_count": 7,
   "id": "3322d810",
   "metadata": {},
   "outputs": [
    {
     "data": {
      "text/plain": [
       "(1000, 32)"
      ]
     },
     "execution_count": 7,
     "metadata": {},
     "output_type": "execute_result"
    }
   ],
   "source": [
    "# Show the shape of the Data\n",
    "\n",
    "df_vacation_data.shape"
   ]
  },
  {
   "cell_type": "code",
   "execution_count": 8,
   "id": "1a49247a",
   "metadata": {},
   "outputs": [],
   "source": [
    "# # Make a small program utilised for adding two numbers\n",
    "\n",
    "# # defining inputs and variables \n",
    "# a = int(input(\"Enter First Number: \"))\n",
    "# b = int(input(\"Enter Second Number: \"))\n",
    "\n",
    "# # user define function to add two numbers\n",
    "# def add(x,y):\n",
    "#     # using self to use variable from parameters\n",
    "#     print(f\"First Number: {x}\")\n",
    "#     print(f\"Second Number: {y}\")\n",
    "#     # returning addition of both number directly\n",
    "#     return x+y\n",
    "\n",
    "# print(f\"Addition: {add(a,b)}\")"
   ]
  },
  {
   "cell_type": "code",
   "execution_count": 9,
   "id": "d1c6f0ea",
   "metadata": {},
   "outputs": [],
   "source": [
    "# # Make a small program utilised for adding two numbers\n",
    "\n",
    "\n",
    "# # user define function to add two numbers\n",
    "# def add():\n",
    "#     # defining inputs and variables \n",
    "#     x = int(input(\"Enter First Number: \"))\n",
    "#     y = int(input(\"Enter Second Number: \"))\n",
    "#     # using self to use variable from parameters\n",
    "#     print(f\"First Number: {x}\")\n",
    "#     print(f\"Second Number: {y}\")\n",
    "#     # returning addition of both number directly\n",
    "#     return x+y\n",
    "\n",
    "# print(f\"Addition: {add()}\")"
   ]
  },
  {
   "cell_type": "markdown",
   "id": "2c6007c6",
   "metadata": {},
   "source": [
    "**Interpretation**\n",
    " - we have 1000 observations(Rows)\n",
    " - we have 32 attributes (Columns)"
   ]
  },
  {
   "cell_type": "code",
   "execution_count": 10,
   "id": "7aeb5a6d",
   "metadata": {},
   "outputs": [
    {
     "name": "stdout",
     "output_type": "stream",
     "text": [
      "<class 'pandas.core.frame.DataFrame'>\n",
      "RangeIndex: 1000 entries, 0 to 999\n",
      "Data columns (total 32 columns):\n",
      " #   Column                                Non-Null Count  Dtype  \n",
      "---  ------                                --------------  -----  \n",
      " 0   Gender                                1000 non-null   object \n",
      " 1   Age                                   1000 non-null   int64  \n",
      " 2   Education                             992 non-null    float64\n",
      " 3   Occupation                            941 non-null    object \n",
      " 4   State                                 1000 non-null   object \n",
      " 5   Relationship_Status                   996 non-null    object \n",
      " 6   Obligation_Rating                     1000 non-null   float64\n",
      " 7   Obligation_Category                   1000 non-null   object \n",
      " 8   NEP                                   1000 non-null   float64\n",
      " 9   Vacation_Behaviour                    975 non-null    float64\n",
      " 10  Rest_and_relax                        1000 non-null   object \n",
      " 11  Luxury_be spoilt                      1000 non-null   object \n",
      " 12  Do_sports                             1000 non-null   object \n",
      " 13  excitement_a_challenge                1000 non-null   object \n",
      " 14  Not_exceed_planned_budget             1000 non-null   object \n",
      " 15  Realise_creativity                    1000 non-null   object \n",
      " 16  Fun_and_entertainment                 1000 non-null   object \n",
      " 17  Good_company                          1000 non-null   object \n",
      " 18  Health_and_beauty                     1000 non-null   object \n",
      " 19  Free_and_easy_going                   1000 non-null   object \n",
      " 20  Entertainment_facilities              1000 non-null   object \n",
      " 21  Not_care_about_prices                 1000 non-null   object \n",
      " 22  Life_style_of_the_local_people        1000 non-null   object \n",
      " 23  Intense_Experience_of_Nature          1000 non-null   object \n",
      " 24  Cosiness_or_Familiar_Atmosphere       1000 non-null   object \n",
      " 25  Maintain_Unspoilt_Surroundings        1000 non-null   object \n",
      " 26  Everything_Organised                  1000 non-null   object \n",
      " 27  Unspoilt_Nature_or_Natural_Landscape  1000 non-null   object \n",
      " 28  Cultural_Offers                       1000 non-null   object \n",
      " 29  Change_of_Surroundings                1000 non-null   object \n",
      " 30  Income_Doller_k                       200 non-null    float64\n",
      " 31  Expenditure_Doller_k                  200 non-null    float64\n",
      "dtypes: float64(6), int64(1), object(25)\n",
      "memory usage: 250.1+ KB\n"
     ]
    }
   ],
   "source": [
    "# Show the basic info of the data\n",
    "\n",
    "# number of attributes that a  nnumerical and categorical\n",
    "# data inconsistencies\n",
    "# memory usage for data processing\n",
    "\n",
    "df_vacation_data.info()"
   ]
  },
  {
   "cell_type": "markdown",
   "id": "dc90ecbb",
   "metadata": {},
   "source": [
    "**Interpretation**\n",
    "\n",
    " - we have total 7 numerical columns and 25 categorical columns\n",
    " - memory usage is 250.1+ kb that means we do not require extra resources\n",
    " - After observing the output we can say that there are missing records in Data "
   ]
  },
  {
   "cell_type": "code",
   "execution_count": 11,
   "id": "72c87c10",
   "metadata": {},
   "outputs": [
    {
     "data": {
      "text/html": [
       "<div>\n",
       "<style scoped>\n",
       "    .dataframe tbody tr th:only-of-type {\n",
       "        vertical-align: middle;\n",
       "    }\n",
       "\n",
       "    .dataframe tbody tr th {\n",
       "        vertical-align: top;\n",
       "    }\n",
       "\n",
       "    .dataframe thead th {\n",
       "        text-align: right;\n",
       "    }\n",
       "</style>\n",
       "<table border=\"1\" class=\"dataframe\">\n",
       "  <thead>\n",
       "    <tr style=\"text-align: right;\">\n",
       "      <th></th>\n",
       "      <th>count</th>\n",
       "      <th>mean</th>\n",
       "      <th>std</th>\n",
       "      <th>min</th>\n",
       "      <th>25%</th>\n",
       "      <th>50%</th>\n",
       "      <th>75%</th>\n",
       "      <th>max</th>\n",
       "    </tr>\n",
       "  </thead>\n",
       "  <tbody>\n",
       "    <tr>\n",
       "      <th>Age</th>\n",
       "      <td>1000.0</td>\n",
       "      <td>44.168000</td>\n",
       "      <td>14.539228</td>\n",
       "      <td>18.000000</td>\n",
       "      <td>32.000000</td>\n",
       "      <td>42.000000</td>\n",
       "      <td>57.000000</td>\n",
       "      <td>105.0</td>\n",
       "    </tr>\n",
       "    <tr>\n",
       "      <th>Education</th>\n",
       "      <td>992.0</td>\n",
       "      <td>4.813508</td>\n",
       "      <td>2.422252</td>\n",
       "      <td>1.000000</td>\n",
       "      <td>3.000000</td>\n",
       "      <td>6.000000</td>\n",
       "      <td>7.000000</td>\n",
       "      <td>8.0</td>\n",
       "    </tr>\n",
       "    <tr>\n",
       "      <th>Obligation_Rating</th>\n",
       "      <td>1000.0</td>\n",
       "      <td>3.734767</td>\n",
       "      <td>0.635777</td>\n",
       "      <td>1.000000</td>\n",
       "      <td>3.366667</td>\n",
       "      <td>3.800000</td>\n",
       "      <td>4.200000</td>\n",
       "      <td>5.0</td>\n",
       "    </tr>\n",
       "    <tr>\n",
       "      <th>NEP</th>\n",
       "      <td>1000.0</td>\n",
       "      <td>3.648600</td>\n",
       "      <td>0.561135</td>\n",
       "      <td>1.733333</td>\n",
       "      <td>3.266667</td>\n",
       "      <td>3.666667</td>\n",
       "      <td>4.066667</td>\n",
       "      <td>5.0</td>\n",
       "    </tr>\n",
       "    <tr>\n",
       "      <th>Vacation_Behaviour</th>\n",
       "      <td>975.0</td>\n",
       "      <td>2.962800</td>\n",
       "      <td>0.668347</td>\n",
       "      <td>1.233333</td>\n",
       "      <td>2.466667</td>\n",
       "      <td>2.944444</td>\n",
       "      <td>3.428571</td>\n",
       "      <td>4.9</td>\n",
       "    </tr>\n",
       "    <tr>\n",
       "      <th>Income_Doller_k</th>\n",
       "      <td>200.0</td>\n",
       "      <td>60.560000</td>\n",
       "      <td>26.264721</td>\n",
       "      <td>15.000000</td>\n",
       "      <td>41.500000</td>\n",
       "      <td>61.500000</td>\n",
       "      <td>78.000000</td>\n",
       "      <td>137.0</td>\n",
       "    </tr>\n",
       "    <tr>\n",
       "      <th>Expenditure_Doller_k</th>\n",
       "      <td>200.0</td>\n",
       "      <td>50.200000</td>\n",
       "      <td>25.823522</td>\n",
       "      <td>1.000000</td>\n",
       "      <td>34.750000</td>\n",
       "      <td>50.000000</td>\n",
       "      <td>73.000000</td>\n",
       "      <td>99.0</td>\n",
       "    </tr>\n",
       "  </tbody>\n",
       "</table>\n",
       "</div>"
      ],
      "text/plain": [
       "                       count       mean        std        min        25%  \\\n",
       "Age                   1000.0  44.168000  14.539228  18.000000  32.000000   \n",
       "Education              992.0   4.813508   2.422252   1.000000   3.000000   \n",
       "Obligation_Rating     1000.0   3.734767   0.635777   1.000000   3.366667   \n",
       "NEP                   1000.0   3.648600   0.561135   1.733333   3.266667   \n",
       "Vacation_Behaviour     975.0   2.962800   0.668347   1.233333   2.466667   \n",
       "Income_Doller_k        200.0  60.560000  26.264721  15.000000  41.500000   \n",
       "Expenditure_Doller_k   200.0  50.200000  25.823522   1.000000  34.750000   \n",
       "\n",
       "                            50%        75%    max  \n",
       "Age                   42.000000  57.000000  105.0  \n",
       "Education              6.000000   7.000000    8.0  \n",
       "Obligation_Rating      3.800000   4.200000    5.0  \n",
       "NEP                    3.666667   4.066667    5.0  \n",
       "Vacation_Behaviour     2.944444   3.428571    4.9  \n",
       "Income_Doller_k       61.500000  78.000000  137.0  \n",
       "Expenditure_Doller_k  50.000000  73.000000   99.0  "
      ]
     },
     "execution_count": 11,
     "metadata": {},
     "output_type": "execute_result"
    }
   ],
   "source": [
    "# justify the basic statistics of the data\n",
    "\n",
    "df_vacation_data.describe().T"
   ]
  },
  {
   "cell_type": "markdown",
   "id": "936bebe0",
   "metadata": {},
   "source": [
    "**Interpretation**\n",
    "\n",
    " - Not numerical column has a outlier in this data"
   ]
  },
  {
   "cell_type": "markdown",
   "id": "eeab554a",
   "metadata": {},
   "source": [
    "## Data Preprocessing\n",
    "\n"
   ]
  },
  {
   "cell_type": "code",
   "execution_count": 12,
   "id": "0c72792d",
   "metadata": {},
   "outputs": [
    {
     "data": {
      "text/plain": [
       "Gender                                    0\n",
       "Age                                       0\n",
       "Education                                 8\n",
       "Occupation                               59\n",
       "State                                     0\n",
       "Relationship_Status                       4\n",
       "Obligation_Rating                         0\n",
       "Obligation_Category                       0\n",
       "NEP                                       0\n",
       "Vacation_Behaviour                       25\n",
       "Rest_and_relax                            0\n",
       "Luxury_be spoilt                          0\n",
       "Do_sports                                 0\n",
       "excitement_a_challenge                    0\n",
       "Not_exceed_planned_budget                 0\n",
       "Realise_creativity                        0\n",
       "Fun_and_entertainment                     0\n",
       "Good_company                              0\n",
       "Health_and_beauty                         0\n",
       "Free_and_easy_going                       0\n",
       "Entertainment_facilities                  0\n",
       "Not_care_about_prices                     0\n",
       "Life_style_of_the_local_people            0\n",
       "Intense_Experience_of_Nature              0\n",
       "Cosiness_or_Familiar_Atmosphere           0\n",
       "Maintain_Unspoilt_Surroundings            0\n",
       "Everything_Organised                      0\n",
       "Unspoilt_Nature_or_Natural_Landscape      0\n",
       "Cultural_Offers                           0\n",
       "Change_of_Surroundings                    0\n",
       "Income_Doller_k                         800\n",
       "Expenditure_Doller_k                    800\n",
       "dtype: int64"
      ]
     },
     "execution_count": 12,
     "metadata": {},
     "output_type": "execute_result"
    }
   ],
   "source": [
    "# Null Value Handling\n",
    "\n",
    "# show count of null records in data\n",
    "\n",
    "df_vacation_data.isnull().sum()"
   ]
  },
  {
   "cell_type": "code",
   "execution_count": null,
   "id": "9b1a0cb5",
   "metadata": {},
   "outputs": [],
   "source": []
  },
  {
   "cell_type": "markdown",
   "id": "86b7b6d2",
   "metadata": {},
   "source": [
    "**Interpretation**\n",
    "\n",
    "- we have 8 null record in education attribute\n",
    "- we have 59 null record in occupation attribute\n",
    "- we have 4 null record in relationship status attribute\n",
    "- we have 25 null record in vacation behaviour attribute\n",
    "- we have 800 null record in Income Doller (k) attribute\n",
    "- we have 800 null record in Expenditure Doller (k) attribute"
   ]
  },
  {
   "cell_type": "markdown",
   "id": "2f944912",
   "metadata": {
    "vscode": {
     "languageId": "raw"
    }
   },
   "source": [
    "## Laws to treat null records in manufacturing\n",
    "\n",
    "1. If null record percent is less than 15% --> remove observations (rows)\n",
    "2. If null record percentage is between 20% to 70% --> impute the missing records (fill null values)\n",
    "3. If null record percentage is greater than 75% --> remove the attribute (column)"
   ]
  },
  {
   "cell_type": "code",
   "execution_count": 13,
   "metadata": {},
   "outputs": [
    {
     "data": {
      "text/plain": [
       "Gender                                   0.0\n",
       "Age                                      0.0\n",
       "Education                                0.8\n",
       "Occupation                               5.9\n",
       "State                                    0.0\n",
       "Relationship_Status                      0.4\n",
       "Obligation_Rating                        0.0\n",
       "Obligation_Category                      0.0\n",
       "NEP                                      0.0\n",
       "Vacation_Behaviour                       2.5\n",
       "Rest_and_relax                           0.0\n",
       "Luxury_be spoilt                         0.0\n",
       "Do_sports                                0.0\n",
       "excitement_a_challenge                   0.0\n",
       "Not_exceed_planned_budget                0.0\n",
       "Realise_creativity                       0.0\n",
       "Fun_and_entertainment                    0.0\n",
       "Good_company                             0.0\n",
       "Health_and_beauty                        0.0\n",
       "Free_and_easy_going                      0.0\n",
       "Entertainment_facilities                 0.0\n",
       "Not_care_about_prices                    0.0\n",
       "Life_style_of_the_local_people           0.0\n",
       "Intense_Experience_of_Nature             0.0\n",
       "Cosiness_or_Familiar_Atmosphere          0.0\n",
       "Maintain_Unspoilt_Surroundings           0.0\n",
       "Everything_Organised                     0.0\n",
       "Unspoilt_Nature_or_Natural_Landscape     0.0\n",
       "Cultural_Offers                          0.0\n",
       "Change_of_Surroundings                   0.0\n",
       "Income_Doller_k                         80.0\n",
       "Expenditure_Doller_k                    80.0\n",
       "dtype: float64"
      ]
     },
     "execution_count": 13,
     "metadata": {},
     "output_type": "execute_result"
    }
   ],
   "source": [
    "# find percentage of missing records\n",
    "\n",
    "df_vacation_data.isnull().sum() / len(df_vacation_data) * 100"
   ]
  },
  {
   "cell_type": "code",
   "execution_count": 14,
   "id": "3e4157a3",
   "metadata": {},
   "outputs": [],
   "source": [
    "# As per the law let's remove attributes \n",
    "\n",
    "# missing percent greater than 75%\n",
    "\n",
    "df_vacation_data.drop('Income_Doller_k',axis=1,inplace=True) # punching method (Reversing through breakpoints is not possible)\n",
    "df_vacation_data = df_vacation_data.drop('Expenditure_Doller_k',axis=1) # reassigning values (Buiness Standard)"
   ]
  },
  {
   "cell_type": "code",
   "execution_count": 15,
   "id": "b8aea0df",
   "metadata": {},
   "outputs": [
    {
     "data": {
      "text/plain": [
       "Index(['Gender', 'Age', 'Education', 'Occupation', 'State',\n",
       "       'Relationship_Status', 'Obligation_Rating', 'Obligation_Category',\n",
       "       'NEP', 'Vacation_Behaviour', 'Rest_and_relax', 'Luxury_be spoilt',\n",
       "       'Do_sports', 'excitement_a_challenge', 'Not_exceed_planned_budget',\n",
       "       'Realise_creativity', 'Fun_and_entertainment', 'Good_company',\n",
       "       'Health_and_beauty', 'Free_and_easy_going', 'Entertainment_facilities',\n",
       "       'Not_care_about_prices', 'Life_style_of_the_local_people',\n",
       "       'Intense_Experience_of_Nature', 'Cosiness_or_Familiar_Atmosphere',\n",
       "       'Maintain_Unspoilt_Surroundings', 'Everything_Organised',\n",
       "       'Unspoilt_Nature_or_Natural_Landscape', 'Cultural_Offers',\n",
       "       'Change_of_Surroundings'],\n",
       "      dtype='object')"
      ]
     },
     "execution_count": 15,
     "metadata": {},
     "output_type": "execute_result"
    }
   ],
   "source": [
    "# perform authentic check\n",
    "\n",
    "df_vacation_data.columns"
   ]
  },
  {
   "cell_type": "code",
   "execution_count": 16,
   "id": "af88f4eb",
   "metadata": {},
   "outputs": [
    {
     "data": {
      "text/plain": [
       "(1000, 30)"
      ]
     },
     "execution_count": 16,
     "metadata": {},
     "output_type": "execute_result"
    }
   ],
   "source": [
    "# for more checks\n",
    "df_vacation_data.shape"
   ]
  },
  {
   "cell_type": "code",
   "execution_count": 17,
   "id": "ebe229af",
   "metadata": {},
   "outputs": [
    {
     "data": {
      "text/plain": [
       "Gender                                  0.0\n",
       "Age                                     0.0\n",
       "Education                               0.8\n",
       "Occupation                              5.9\n",
       "State                                   0.0\n",
       "Relationship_Status                     0.4\n",
       "Obligation_Rating                       0.0\n",
       "Obligation_Category                     0.0\n",
       "NEP                                     0.0\n",
       "Vacation_Behaviour                      2.5\n",
       "Rest_and_relax                          0.0\n",
       "Luxury_be spoilt                        0.0\n",
       "Do_sports                               0.0\n",
       "excitement_a_challenge                  0.0\n",
       "Not_exceed_planned_budget               0.0\n",
       "Realise_creativity                      0.0\n",
       "Fun_and_entertainment                   0.0\n",
       "Good_company                            0.0\n",
       "Health_and_beauty                       0.0\n",
       "Free_and_easy_going                     0.0\n",
       "Entertainment_facilities                0.0\n",
       "Not_care_about_prices                   0.0\n",
       "Life_style_of_the_local_people          0.0\n",
       "Intense_Experience_of_Nature            0.0\n",
       "Cosiness_or_Familiar_Atmosphere         0.0\n",
       "Maintain_Unspoilt_Surroundings          0.0\n",
       "Everything_Organised                    0.0\n",
       "Unspoilt_Nature_or_Natural_Landscape    0.0\n",
       "Cultural_Offers                         0.0\n",
       "Change_of_Surroundings                  0.0\n",
       "dtype: float64"
      ]
     },
     "execution_count": 17,
     "metadata": {},
     "output_type": "execute_result"
    }
   ],
   "source": [
    "# Check percentage of missing record\n",
    "df_vacation_data.isnull().sum() / len(df_vacation_data) * 100\n"
   ]
  },
  {
   "cell_type": "code",
   "execution_count": 18,
   "id": "d1af8110",
   "metadata": {},
   "outputs": [],
   "source": [
    "# Drop the null records from Dataframe\n",
    "\n",
    "df_vacation_data.dropna(inplace=True)"
   ]
  },
  {
   "cell_type": "code",
   "execution_count": 19,
   "id": "b878e67e",
   "metadata": {},
   "outputs": [
    {
     "data": {
      "text/plain": [
       "Gender                                  0\n",
       "Age                                     0\n",
       "Education                               0\n",
       "Occupation                              0\n",
       "State                                   0\n",
       "Relationship_Status                     0\n",
       "Obligation_Rating                       0\n",
       "Obligation_Category                     0\n",
       "NEP                                     0\n",
       "Vacation_Behaviour                      0\n",
       "Rest_and_relax                          0\n",
       "Luxury_be spoilt                        0\n",
       "Do_sports                               0\n",
       "excitement_a_challenge                  0\n",
       "Not_exceed_planned_budget               0\n",
       "Realise_creativity                      0\n",
       "Fun_and_entertainment                   0\n",
       "Good_company                            0\n",
       "Health_and_beauty                       0\n",
       "Free_and_easy_going                     0\n",
       "Entertainment_facilities                0\n",
       "Not_care_about_prices                   0\n",
       "Life_style_of_the_local_people          0\n",
       "Intense_Experience_of_Nature            0\n",
       "Cosiness_or_Familiar_Atmosphere         0\n",
       "Maintain_Unspoilt_Surroundings          0\n",
       "Everything_Organised                    0\n",
       "Unspoilt_Nature_or_Natural_Landscape    0\n",
       "Cultural_Offers                         0\n",
       "Change_of_Surroundings                  0\n",
       "dtype: int64"
      ]
     },
     "execution_count": 19,
     "metadata": {},
     "output_type": "execute_result"
    }
   ],
   "source": [
    "# Authentic check\n",
    "\n",
    "df_vacation_data.isnull().sum()"
   ]
  },
  {
   "cell_type": "markdown",
   "id": "d92324cb",
   "metadata": {},
   "source": [
    "# EDA (Exploratary Data Analytics)"
   ]
  },
  {
   "cell_type": "markdown",
   "id": "1ed45d33",
   "metadata": {},
   "source": [
    "EDA: It is a method utilized to convert data info the information.\n",
    "\n",
    "- Unstructed: Raw data\n",
    "- Semi Structed: JSON\n",
    "- Structed: CSV"
   ]
  },
  {
   "cell_type": "markdown",
   "id": "0e9a26b2",
   "metadata": {},
   "source": [
    "1) Univariate Analysis: When we took single column for analysis, it's called univariate analysis. \n",
    "- We have two kind of datatypes while analysis numerical and categorical \n",
    "- when we have only 1 numerical column plot **histogram** or **KDE** plot\n",
    "- when we have only one categorical column plot **the count** plot\n",
    "\n",
    "2) Bivariate Analysis: When we took two columns for analysis, it's called bivariate analysis.\n",
    "- When we have 2 numerical columns plot **the scatter plot** \n",
    "- When we have 1 numerical and other categorical then plot **the Bar** plot\n",
    "\n",
    "3) Multivariate Analysis: When we took more than wo columns for analysis, it's called multivariate analysis.\n",
    "- In this case we are going to create **pair plot** with **hue parameter** *(Not Recommended)*\n",
    "- In multivariate analysis we create **cross tab** or **pivot table**"
   ]
  },
  {
   "cell_type": "markdown",
   "id": "332015b3",
   "metadata": {},
   "source": [
    "## Univariate Analysis\n",
    "\n"
   ]
  },
  {
   "cell_type": "code",
   "execution_count": 20,
   "id": "c89b0ceb",
   "metadata": {},
   "outputs": [],
   "source": [
    "# Seggregate the data based on data types\n",
    "\n",
    "df_num = df_vacation_data.select_dtypes(include='number') # Numerical DataFrame\n",
    "df_cat = df_vacation_data.select_dtypes(include='object') # Categorical DataFrame"
   ]
  },
  {
   "cell_type": "code",
   "execution_count": 21,
   "id": "0ea67196",
   "metadata": {},
   "outputs": [
    {
     "data": {
      "text/html": [
       "<div>\n",
       "<style scoped>\n",
       "    .dataframe tbody tr th:only-of-type {\n",
       "        vertical-align: middle;\n",
       "    }\n",
       "\n",
       "    .dataframe tbody tr th {\n",
       "        vertical-align: top;\n",
       "    }\n",
       "\n",
       "    .dataframe thead th {\n",
       "        text-align: right;\n",
       "    }\n",
       "</style>\n",
       "<table border=\"1\" class=\"dataframe\">\n",
       "  <thead>\n",
       "    <tr style=\"text-align: right;\">\n",
       "      <th></th>\n",
       "      <th>Age</th>\n",
       "      <th>Education</th>\n",
       "      <th>Obligation_Rating</th>\n",
       "      <th>NEP</th>\n",
       "      <th>Vacation_Behaviour</th>\n",
       "    </tr>\n",
       "  </thead>\n",
       "  <tbody>\n",
       "    <tr>\n",
       "      <th>0</th>\n",
       "      <td>25</td>\n",
       "      <td>6.0</td>\n",
       "      <td>4.800000</td>\n",
       "      <td>3.200000</td>\n",
       "      <td>2.066667</td>\n",
       "    </tr>\n",
       "    <tr>\n",
       "      <th>1</th>\n",
       "      <td>31</td>\n",
       "      <td>8.0</td>\n",
       "      <td>3.300000</td>\n",
       "      <td>3.400000</td>\n",
       "      <td>2.000000</td>\n",
       "    </tr>\n",
       "    <tr>\n",
       "      <th>3</th>\n",
       "      <td>18</td>\n",
       "      <td>2.0</td>\n",
       "      <td>2.633333</td>\n",
       "      <td>3.400000</td>\n",
       "      <td>2.166667</td>\n",
       "    </tr>\n",
       "    <tr>\n",
       "      <th>4</th>\n",
       "      <td>61</td>\n",
       "      <td>3.0</td>\n",
       "      <td>3.400000</td>\n",
       "      <td>3.733333</td>\n",
       "      <td>1.724138</td>\n",
       "    </tr>\n",
       "    <tr>\n",
       "      <th>5</th>\n",
       "      <td>63</td>\n",
       "      <td>7.0</td>\n",
       "      <td>4.400000</td>\n",
       "      <td>4.266667</td>\n",
       "      <td>3.300000</td>\n",
       "    </tr>\n",
       "  </tbody>\n",
       "</table>\n",
       "</div>"
      ],
      "text/plain": [
       "   Age  Education  Obligation_Rating       NEP  Vacation_Behaviour\n",
       "0   25        6.0           4.800000  3.200000            2.066667\n",
       "1   31        8.0           3.300000  3.400000            2.000000\n",
       "3   18        2.0           2.633333  3.400000            2.166667\n",
       "4   61        3.0           3.400000  3.733333            1.724138\n",
       "5   63        7.0           4.400000  4.266667            3.300000"
      ]
     },
     "execution_count": 21,
     "metadata": {},
     "output_type": "execute_result"
    }
   ],
   "source": [
    "# Show first 5 observations of Numerical Data\n",
    "\n",
    "df_num.head()"
   ]
  },
  {
   "cell_type": "code",
   "execution_count": 22,
   "id": "6036ee27",
   "metadata": {},
   "outputs": [
    {
     "data": {
      "text/html": [
       "<div>\n",
       "<style scoped>\n",
       "    .dataframe tbody tr th:only-of-type {\n",
       "        vertical-align: middle;\n",
       "    }\n",
       "\n",
       "    .dataframe tbody tr th {\n",
       "        vertical-align: top;\n",
       "    }\n",
       "\n",
       "    .dataframe thead th {\n",
       "        text-align: right;\n",
       "    }\n",
       "</style>\n",
       "<table border=\"1\" class=\"dataframe\">\n",
       "  <thead>\n",
       "    <tr style=\"text-align: right;\">\n",
       "      <th></th>\n",
       "      <th>Gender</th>\n",
       "      <th>Occupation</th>\n",
       "      <th>State</th>\n",
       "      <th>Relationship_Status</th>\n",
       "      <th>Obligation_Category</th>\n",
       "      <th>Rest_and_relax</th>\n",
       "      <th>Luxury_be spoilt</th>\n",
       "      <th>Do_sports</th>\n",
       "      <th>excitement_a_challenge</th>\n",
       "      <th>Not_exceed_planned_budget</th>\n",
       "      <th>...</th>\n",
       "      <th>Entertainment_facilities</th>\n",
       "      <th>Not_care_about_prices</th>\n",
       "      <th>Life_style_of_the_local_people</th>\n",
       "      <th>Intense_Experience_of_Nature</th>\n",
       "      <th>Cosiness_or_Familiar_Atmosphere</th>\n",
       "      <th>Maintain_Unspoilt_Surroundings</th>\n",
       "      <th>Everything_Organised</th>\n",
       "      <th>Unspoilt_Nature_or_Natural_Landscape</th>\n",
       "      <th>Cultural_Offers</th>\n",
       "      <th>Change_of_Surroundings</th>\n",
       "    </tr>\n",
       "  </thead>\n",
       "  <tbody>\n",
       "    <tr>\n",
       "      <th>0</th>\n",
       "      <td>Female</td>\n",
       "      <td>Clerical or service worker</td>\n",
       "      <td>VIC</td>\n",
       "      <td>single</td>\n",
       "      <td>Q4</td>\n",
       "      <td>yes</td>\n",
       "      <td>no</td>\n",
       "      <td>no</td>\n",
       "      <td>no</td>\n",
       "      <td>no</td>\n",
       "      <td>...</td>\n",
       "      <td>no</td>\n",
       "      <td>no</td>\n",
       "      <td>no</td>\n",
       "      <td>no</td>\n",
       "      <td>no</td>\n",
       "      <td>no</td>\n",
       "      <td>no</td>\n",
       "      <td>no</td>\n",
       "      <td>no</td>\n",
       "      <td>no</td>\n",
       "    </tr>\n",
       "    <tr>\n",
       "      <th>1</th>\n",
       "      <td>Female</td>\n",
       "      <td>professional</td>\n",
       "      <td>WA</td>\n",
       "      <td>married</td>\n",
       "      <td>Q1</td>\n",
       "      <td>yes</td>\n",
       "      <td>yes</td>\n",
       "      <td>no</td>\n",
       "      <td>no</td>\n",
       "      <td>no</td>\n",
       "      <td>...</td>\n",
       "      <td>no</td>\n",
       "      <td>no</td>\n",
       "      <td>yes</td>\n",
       "      <td>no</td>\n",
       "      <td>no</td>\n",
       "      <td>no</td>\n",
       "      <td>no</td>\n",
       "      <td>no</td>\n",
       "      <td>no</td>\n",
       "      <td>yes</td>\n",
       "    </tr>\n",
       "    <tr>\n",
       "      <th>3</th>\n",
       "      <td>Female</td>\n",
       "      <td>unemployed</td>\n",
       "      <td>NSW</td>\n",
       "      <td>single</td>\n",
       "      <td>Q1</td>\n",
       "      <td>yes</td>\n",
       "      <td>yes</td>\n",
       "      <td>no</td>\n",
       "      <td>no</td>\n",
       "      <td>yes</td>\n",
       "      <td>...</td>\n",
       "      <td>yes</td>\n",
       "      <td>no</td>\n",
       "      <td>no</td>\n",
       "      <td>yes</td>\n",
       "      <td>no</td>\n",
       "      <td>no</td>\n",
       "      <td>no</td>\n",
       "      <td>no</td>\n",
       "      <td>no</td>\n",
       "      <td>yes</td>\n",
       "    </tr>\n",
       "    <tr>\n",
       "      <th>4</th>\n",
       "      <td>Male</td>\n",
       "      <td>retired</td>\n",
       "      <td>WA</td>\n",
       "      <td>married</td>\n",
       "      <td>Q2</td>\n",
       "      <td>yes</td>\n",
       "      <td>no</td>\n",
       "      <td>no</td>\n",
       "      <td>no</td>\n",
       "      <td>yes</td>\n",
       "      <td>...</td>\n",
       "      <td>no</td>\n",
       "      <td>no</td>\n",
       "      <td>yes</td>\n",
       "      <td>no</td>\n",
       "      <td>no</td>\n",
       "      <td>yes</td>\n",
       "      <td>no</td>\n",
       "      <td>no</td>\n",
       "      <td>no</td>\n",
       "      <td>no</td>\n",
       "    </tr>\n",
       "    <tr>\n",
       "      <th>5</th>\n",
       "      <td>Female</td>\n",
       "      <td>retired</td>\n",
       "      <td>QLD</td>\n",
       "      <td>married</td>\n",
       "      <td>Q4</td>\n",
       "      <td>yes</td>\n",
       "      <td>no</td>\n",
       "      <td>no</td>\n",
       "      <td>no</td>\n",
       "      <td>yes</td>\n",
       "      <td>...</td>\n",
       "      <td>no</td>\n",
       "      <td>no</td>\n",
       "      <td>no</td>\n",
       "      <td>no</td>\n",
       "      <td>yes</td>\n",
       "      <td>no</td>\n",
       "      <td>no</td>\n",
       "      <td>no</td>\n",
       "      <td>no</td>\n",
       "      <td>no</td>\n",
       "    </tr>\n",
       "  </tbody>\n",
       "</table>\n",
       "<p>5 rows × 25 columns</p>\n",
       "</div>"
      ],
      "text/plain": [
       "   Gender                  Occupation State Relationship_Status  \\\n",
       "0  Female  Clerical or service worker   VIC              single   \n",
       "1  Female                professional    WA             married   \n",
       "3  Female                  unemployed   NSW              single   \n",
       "4    Male                     retired    WA             married   \n",
       "5  Female                     retired   QLD             married   \n",
       "\n",
       "  Obligation_Category Rest_and_relax Luxury_be spoilt Do_sports  \\\n",
       "0                  Q4            yes               no        no   \n",
       "1                  Q1            yes              yes        no   \n",
       "3                  Q1            yes              yes        no   \n",
       "4                  Q2            yes               no        no   \n",
       "5                  Q4            yes               no        no   \n",
       "\n",
       "  excitement_a_challenge Not_exceed_planned_budget  ...  \\\n",
       "0                     no                        no  ...   \n",
       "1                     no                        no  ...   \n",
       "3                     no                       yes  ...   \n",
       "4                     no                       yes  ...   \n",
       "5                     no                       yes  ...   \n",
       "\n",
       "  Entertainment_facilities Not_care_about_prices  \\\n",
       "0                       no                    no   \n",
       "1                       no                    no   \n",
       "3                      yes                    no   \n",
       "4                       no                    no   \n",
       "5                       no                    no   \n",
       "\n",
       "  Life_style_of_the_local_people Intense_Experience_of_Nature  \\\n",
       "0                             no                           no   \n",
       "1                            yes                           no   \n",
       "3                             no                          yes   \n",
       "4                            yes                           no   \n",
       "5                             no                           no   \n",
       "\n",
       "  Cosiness_or_Familiar_Atmosphere Maintain_Unspoilt_Surroundings  \\\n",
       "0                              no                             no   \n",
       "1                              no                             no   \n",
       "3                              no                             no   \n",
       "4                              no                            yes   \n",
       "5                             yes                             no   \n",
       "\n",
       "  Everything_Organised Unspoilt_Nature_or_Natural_Landscape Cultural_Offers  \\\n",
       "0                   no                                   no              no   \n",
       "1                   no                                   no              no   \n",
       "3                   no                                   no              no   \n",
       "4                   no                                   no              no   \n",
       "5                   no                                   no              no   \n",
       "\n",
       "  Change_of_Surroundings  \n",
       "0                     no  \n",
       "1                    yes  \n",
       "3                    yes  \n",
       "4                     no  \n",
       "5                     no  \n",
       "\n",
       "[5 rows x 25 columns]"
      ]
     },
     "execution_count": 22,
     "metadata": {},
     "output_type": "execute_result"
    }
   ],
   "source": [
    "# Show first 5 observations of Categorical Data\n",
    "\n",
    "df_cat.head()"
   ]
  },
  {
   "cell_type": "markdown",
   "id": "02345c97",
   "metadata": {},
   "source": [
    "### Perform the Univariate Analysis on Numerical Data"
   ]
  },
  {
   "cell_type": "code",
   "execution_count": 23,
   "id": "249e2837",
   "metadata": {},
   "outputs": [
    {
     "data": {
      "text/plain": [
       "Index(['Age', 'Education', 'Obligation_Rating', 'NEP', 'Vacation_Behaviour'], dtype='object')"
      ]
     },
     "execution_count": 23,
     "metadata": {},
     "output_type": "execute_result"
    }
   ],
   "source": [
    "# Show numerical Columns\n",
    "\n",
    "df_num.columns"
   ]
  },
  {
   "cell_type": "markdown",
   "id": "ec323d54",
   "metadata": {},
   "source": [
    "#### Age\n"
   ]
  },
  {
   "cell_type": "code",
   "execution_count": 24,
   "id": "d21141dd",
   "metadata": {},
   "outputs": [
    {
     "data": {
      "text/plain": [
       "18"
      ]
     },
     "execution_count": 24,
     "metadata": {},
     "output_type": "execute_result"
    }
   ],
   "source": [
    "# Show the min Age\n",
    "df_num.Age.min()"
   ]
  },
  {
   "cell_type": "code",
   "execution_count": 25,
   "id": "9cf5709d",
   "metadata": {},
   "outputs": [
    {
     "data": {
      "text/plain": [
       "105"
      ]
     },
     "execution_count": 25,
     "metadata": {},
     "output_type": "execute_result"
    }
   ],
   "source": [
    "# Show Max Age\n",
    "\n",
    "df_num.Age.max()"
   ]
  },
  {
   "cell_type": "code",
   "execution_count": 26,
   "id": "8b9bee59",
   "metadata": {},
   "outputs": [
    {
     "data": {
      "text/plain": [
       "44.22"
      ]
     },
     "execution_count": 26,
     "metadata": {},
     "output_type": "execute_result"
    }
   ],
   "source": [
    "# show the avg\n",
    "\n",
    "to_fixed(df_num.Age.mean(),2)"
   ]
  },
  {
   "cell_type": "code",
   "execution_count": 27,
   "id": "0aff8416",
   "metadata": {},
   "outputs": [
    {
     "data": {
      "image/png": "[encoded data removed]",
      "text/plain": [
       "<Figure size 640x480 with 1 Axes>"
      ]
     },
     "metadata": {},
     "output_type": "display_data"
    }
   ],
   "source": [
    "# Show the Distribuation of Single Numerical Column\n",
    "\n",
    "df_num.Age.plot(kind='kde',color='blue',title='Age Distribution', grid=True) # kernel density plot\n",
    "plt.show()"
   ]
  },
  {
   "cell_type": "markdown",
   "id": "ca349c3b",
   "metadata": {},
   "source": [
    "## Interpretation\n",
    "\n",
    "- Minimum Age of the person who is going for vacation is 18\n",
    "- Maximum age of the person who is going for vacation is 105\n",
    "- Average Age of the person whi is going for vacation is 44.22\n",
    "- The Data follows multi-model distribution\n",
    "- we have two groups in Data, rages are b/w 25-49 and 50-60\n"
   ]
  },
  {
   "cell_type": "code",
   "execution_count": 28,
   "id": "21bd3cc9",
   "metadata": {},
   "outputs": [
    {
     "data": {
      "text/plain": [
       "Index(['Age', 'Education', 'Obligation_Rating', 'NEP', 'Vacation_Behaviour'], dtype='object')"
      ]
     },
     "execution_count": 28,
     "metadata": {},
     "output_type": "execute_result"
    }
   ],
   "source": [
    "# Show the column presenting numerical DataFrame\n",
    "\n",
    "df_num.columns"
   ]
  },
  {
   "cell_type": "markdown",
   "id": "6e3f793a",
   "metadata": {},
   "source": [
    "#### Education"
   ]
  },
  {
   "cell_type": "code",
   "execution_count": 29,
   "id": "78805a2c",
   "metadata": {},
   "outputs": [
    {
     "name": "stdout",
     "output_type": "stream",
     "text": [
      "Min: 1.0 \n",
      "Max: 8.0 \n",
      "Average: 4.88\n"
     ]
    }
   ],
   "source": [
    "# Show Min, Max and Average of Education Attribute\n",
    "\n",
    "print(f\"Min: {to_fixed(df_num.Education.min(),2)} \\nMax: {to_fixed(df_num.Education.max(),2)} \\nAverage: {to_fixed(df_num.Education.mean(),2)}\") "
   ]
  },
  {
   "cell_type": "code",
   "execution_count": 30,
   "id": "3ae983fb",
   "metadata": {},
   "outputs": [
    {
     "data": {
      "image/png": "[encoded data removed]",
      "text/plain": [
       "<Figure size 640x480 with 1 Axes>"
      ]
     },
     "metadata": {},
     "output_type": "display_data"
    }
   ],
   "source": [
    "# Show the Distribuation of Single Numerical Column\n",
    "\n",
    "df_num.Education.plot(kind='kde',color='blue',title='Education Distribution', grid=True) # kernel density plot\n",
    "plt.show()"
   ]
  },
  {
   "cell_type": "markdown",
   "id": "ac510c2d",
   "metadata": {},
   "source": [
    "**Interpretation**\n",
    "\n",
    "- Minimum Education of Person going for Vacation is 1\n",
    "- Maximum Education of Person going for Vacation is 8\n",
    "- Average Education of Person going for Vacation is 4.88\n",
    "- The Data follows multi-model distribution\n",
    "- we have two groups in Data, rages are b/w 1-4 and 6-8\n"
   ]
  },
  {
   "cell_type": "code",
   "execution_count": 31,
   "id": "ac57e1a7",
   "metadata": {},
   "outputs": [
    {
     "data": {
      "text/plain": [
       "Index(['Age', 'Education', 'Obligation_Rating', 'NEP', 'Vacation_Behaviour'], dtype='object')"
      ]
     },
     "execution_count": 31,
     "metadata": {},
     "output_type": "execute_result"
    }
   ],
   "source": [
    "# Show the numerical Columns\n",
    "\n",
    "df_num.columns"
   ]
  },
  {
   "cell_type": "markdown",
   "id": "0b98d3db",
   "metadata": {},
   "source": [
    "#### Obligation Rating"
   ]
  },
  {
   "cell_type": "code",
   "execution_count": 32,
   "id": "eba4ed60",
   "metadata": {},
   "outputs": [
    {
     "name": "stdout",
     "output_type": "stream",
     "text": [
      "Min: 1.0 \n",
      "Max: 5.0 \n",
      "Average: 3.74\n"
     ]
    }
   ],
   "source": [
    "# Show min, max and average of obigation rating attribute\n",
    "\n",
    "print(f\"Min: {df_num.Obligation_Rating.min()} \\nMax: {df_num.Obligation_Rating.max()} \\nAverage: {float(round(df_num.Obligation_Rating.mean(),2))}\")\n"
   ]
  },
  {
   "cell_type": "code",
   "execution_count": 33,
   "id": "49692a21",
   "metadata": {},
   "outputs": [
    {
     "data": {
      "image/png": "[encoded data removed]",
      "text/plain": [
       "<Figure size 640x480 with 1 Axes>"
      ]
     },
     "metadata": {},
     "output_type": "display_data"
    }
   ],
   "source": [
    "df_num.Obligation_Rating.plot(kind='kde',color='blue',title='Obligation Rating Distribution', grid=True) # kernel density plot\n",
    "plt.show()"
   ]
  },
  {
   "cell_type": "markdown",
   "id": "4d076750",
   "metadata": {},
   "source": [
    "**Interpretation**\n",
    "\n",
    "- Min Obligation Rating of people going to vacation is 1\n",
    "- Max Obligation Rating of people going to vacation is 5\n",
    "- Average Obligation Rating of people going to vacation is 3.74\n",
    "- Since we have normal distribution range is 3-5\n"
   ]
  },
  {
   "cell_type": "code",
   "execution_count": 34,
   "id": "b9282bf2",
   "metadata": {},
   "outputs": [
    {
     "data": {
      "text/plain": [
       "Index(['Age', 'Education', 'Obligation_Rating', 'NEP', 'Vacation_Behaviour'], dtype='object')"
      ]
     },
     "execution_count": 34,
     "metadata": {},
     "output_type": "execute_result"
    }
   ],
   "source": [
    "# Show the numerical Columns\n",
    "\n",
    "df_num.columns"
   ]
  },
  {
   "cell_type": "markdown",
   "id": "490def5c",
   "metadata": {},
   "source": [
    "#### NEP (New Ecological Paradigm)"
   ]
  },
  {
   "cell_type": "code",
   "execution_count": 35,
   "id": "0e617ddb",
   "metadata": {},
   "outputs": [
    {
     "name": "stdout",
     "output_type": "stream",
     "text": [
      "Min: 1.73 \n",
      "Max: 5.0 \n",
      "Average: 3.65\n"
     ]
    }
   ],
   "source": [
    "# Show min, max and average of NEP attribute\n",
    "\n",
    "print(f\"Min: {float(round(df_num.NEP.min(),2))} \\nMax: {df_num.NEP.max()} \\nAverage: {float(round(df_num.NEP.mean(),2))}\")"
   ]
  },
  {
   "cell_type": "code",
   "execution_count": 36,
   "id": "ee3e6b5d",
   "metadata": {},
   "outputs": [
    {
     "data": {
      "image/png": "[encoded data removed]",
      "text/plain": [
       "<Figure size 640x480 with 1 Axes>"
      ]
     },
     "metadata": {},
     "output_type": "display_data"
    }
   ],
   "source": [
    "df_num.NEP.plot(kind='kde', color='blue', title='NEP Disctribution', grid=True)\n",
    "plt.show()"
   ]
  },
  {
   "cell_type": "markdown",
   "id": "24360780",
   "metadata": {},
   "source": [
    "**Interpretation**\n",
    "\n",
    "- Minimum NEP of person going to vacation is 1.73\n",
    "- Maximum NEP of person going to vacation is 5.0\n",
    "- Average NEP of person going to vacation is 3.65\n",
    "- Data is in Normal Distribution\n"
   ]
  },
  {
   "cell_type": "code",
   "execution_count": 37,
   "id": "4c67d23e",
   "metadata": {},
   "outputs": [
    {
     "data": {
      "text/plain": [
       "Index(['Age', 'Education', 'Obligation_Rating', 'NEP', 'Vacation_Behaviour'], dtype='object')"
      ]
     },
     "execution_count": 37,
     "metadata": {},
     "output_type": "execute_result"
    }
   ],
   "source": [
    "# Show the numerical Columns\n",
    "\n",
    "df_num.columns"
   ]
  },
  {
   "cell_type": "markdown",
   "id": "d5b5086c",
   "metadata": {},
   "source": [
    "#### Vacation Behaviour"
   ]
  },
  {
   "cell_type": "code",
   "execution_count": 38,
   "id": "0476f294",
   "metadata": {},
   "outputs": [
    {
     "name": "stdout",
     "output_type": "stream",
     "text": [
      "Min: 1.39 \n",
      "Max: 4.77 \n",
      "Average: 2.96\n"
     ]
    }
   ],
   "source": [
    "# Show min, max and average of Vacation Behaviour attribute\n",
    "\n",
    "print(f\"Min: {to_fixed(df_num.Vacation_Behaviour.min(),2)} \\nMax: {to_fixed(df_num.Vacation_Behaviour.max(),2)} \\nAverage: {to_fixed(df_num.Vacation_Behaviour.mean(),2)}\")"
   ]
  },
  {
   "cell_type": "code",
   "execution_count": 39,
   "id": "03f5c0f4",
   "metadata": {},
   "outputs": [
    {
     "data": {
      "image/png": "[encoded data removed]",
      "text/plain": [
       "<Figure size 640x480 with 1 Axes>"
      ]
     },
     "metadata": {},
     "output_type": "display_data"
    }
   ],
   "source": [
    "df_num.Vacation_Behaviour.plot(kind='kde',color='b',title='Vacation Behaviour Distribution',grid=True)\n",
    "plt.show()"
   ]
  },
  {
   "cell_type": "markdown",
   "id": "3ee12bb9",
   "metadata": {},
   "source": [
    "**Interpretation**\n",
    "\n",
    "- Minimum Vacation behaviour of person going to Vacation is 1.39\n",
    "- Maximum Vacation behaviour of person going to Vacation is 4.77\n",
    "- Average Vacation behaviour of person going to Vacation is 2.96\n",
    "- This data follow normal distribution"
   ]
  },
  {
   "cell_type": "markdown",
   "id": "a7cdddee",
   "metadata": {},
   "source": [
    "### Univarriate Analysis on Categorical Data"
   ]
  },
  {
   "cell_type": "code",
   "execution_count": 40,
   "id": "8a6e4810",
   "metadata": {},
   "outputs": [
    {
     "data": {
      "text/html": [
       "<div>\n",
       "<style scoped>\n",
       "    .dataframe tbody tr th:only-of-type {\n",
       "        vertical-align: middle;\n",
       "    }\n",
       "\n",
       "    .dataframe tbody tr th {\n",
       "        vertical-align: top;\n",
       "    }\n",
       "\n",
       "    .dataframe thead th {\n",
       "        text-align: right;\n",
       "    }\n",
       "</style>\n",
       "<table border=\"1\" class=\"dataframe\">\n",
       "  <thead>\n",
       "    <tr style=\"text-align: right;\">\n",
       "      <th></th>\n",
       "      <th>Gender</th>\n",
       "      <th>Occupation</th>\n",
       "      <th>State</th>\n",
       "      <th>Relationship_Status</th>\n",
       "      <th>Obligation_Category</th>\n",
       "      <th>Rest_and_relax</th>\n",
       "      <th>Luxury_be spoilt</th>\n",
       "      <th>Do_sports</th>\n",
       "      <th>excitement_a_challenge</th>\n",
       "      <th>Not_exceed_planned_budget</th>\n",
       "      <th>...</th>\n",
       "      <th>Entertainment_facilities</th>\n",
       "      <th>Not_care_about_prices</th>\n",
       "      <th>Life_style_of_the_local_people</th>\n",
       "      <th>Intense_Experience_of_Nature</th>\n",
       "      <th>Cosiness_or_Familiar_Atmosphere</th>\n",
       "      <th>Maintain_Unspoilt_Surroundings</th>\n",
       "      <th>Everything_Organised</th>\n",
       "      <th>Unspoilt_Nature_or_Natural_Landscape</th>\n",
       "      <th>Cultural_Offers</th>\n",
       "      <th>Change_of_Surroundings</th>\n",
       "    </tr>\n",
       "  </thead>\n",
       "  <tbody>\n",
       "    <tr>\n",
       "      <th>0</th>\n",
       "      <td>Female</td>\n",
       "      <td>Clerical or service worker</td>\n",
       "      <td>VIC</td>\n",
       "      <td>single</td>\n",
       "      <td>Q4</td>\n",
       "      <td>yes</td>\n",
       "      <td>no</td>\n",
       "      <td>no</td>\n",
       "      <td>no</td>\n",
       "      <td>no</td>\n",
       "      <td>...</td>\n",
       "      <td>no</td>\n",
       "      <td>no</td>\n",
       "      <td>no</td>\n",
       "      <td>no</td>\n",
       "      <td>no</td>\n",
       "      <td>no</td>\n",
       "      <td>no</td>\n",
       "      <td>no</td>\n",
       "      <td>no</td>\n",
       "      <td>no</td>\n",
       "    </tr>\n",
       "    <tr>\n",
       "      <th>1</th>\n",
       "      <td>Female</td>\n",
       "      <td>professional</td>\n",
       "      <td>WA</td>\n",
       "      <td>married</td>\n",
       "      <td>Q1</td>\n",
       "      <td>yes</td>\n",
       "      <td>yes</td>\n",
       "      <td>no</td>\n",
       "      <td>no</td>\n",
       "      <td>no</td>\n",
       "      <td>...</td>\n",
       "      <td>no</td>\n",
       "      <td>no</td>\n",
       "      <td>yes</td>\n",
       "      <td>no</td>\n",
       "      <td>no</td>\n",
       "      <td>no</td>\n",
       "      <td>no</td>\n",
       "      <td>no</td>\n",
       "      <td>no</td>\n",
       "      <td>yes</td>\n",
       "    </tr>\n",
       "    <tr>\n",
       "      <th>3</th>\n",
       "      <td>Female</td>\n",
       "      <td>unemployed</td>\n",
       "      <td>NSW</td>\n",
       "      <td>single</td>\n",
       "      <td>Q1</td>\n",
       "      <td>yes</td>\n",
       "      <td>yes</td>\n",
       "      <td>no</td>\n",
       "      <td>no</td>\n",
       "      <td>yes</td>\n",
       "      <td>...</td>\n",
       "      <td>yes</td>\n",
       "      <td>no</td>\n",
       "      <td>no</td>\n",
       "      <td>yes</td>\n",
       "      <td>no</td>\n",
       "      <td>no</td>\n",
       "      <td>no</td>\n",
       "      <td>no</td>\n",
       "      <td>no</td>\n",
       "      <td>yes</td>\n",
       "    </tr>\n",
       "    <tr>\n",
       "      <th>4</th>\n",
       "      <td>Male</td>\n",
       "      <td>retired</td>\n",
       "      <td>WA</td>\n",
       "      <td>married</td>\n",
       "      <td>Q2</td>\n",
       "      <td>yes</td>\n",
       "      <td>no</td>\n",
       "      <td>no</td>\n",
       "      <td>no</td>\n",
       "      <td>yes</td>\n",
       "      <td>...</td>\n",
       "      <td>no</td>\n",
       "      <td>no</td>\n",
       "      <td>yes</td>\n",
       "      <td>no</td>\n",
       "      <td>no</td>\n",
       "      <td>yes</td>\n",
       "      <td>no</td>\n",
       "      <td>no</td>\n",
       "      <td>no</td>\n",
       "      <td>no</td>\n",
       "    </tr>\n",
       "    <tr>\n",
       "      <th>5</th>\n",
       "      <td>Female</td>\n",
       "      <td>retired</td>\n",
       "      <td>QLD</td>\n",
       "      <td>married</td>\n",
       "      <td>Q4</td>\n",
       "      <td>yes</td>\n",
       "      <td>no</td>\n",
       "      <td>no</td>\n",
       "      <td>no</td>\n",
       "      <td>yes</td>\n",
       "      <td>...</td>\n",
       "      <td>no</td>\n",
       "      <td>no</td>\n",
       "      <td>no</td>\n",
       "      <td>no</td>\n",
       "      <td>yes</td>\n",
       "      <td>no</td>\n",
       "      <td>no</td>\n",
       "      <td>no</td>\n",
       "      <td>no</td>\n",
       "      <td>no</td>\n",
       "    </tr>\n",
       "  </tbody>\n",
       "</table>\n",
       "<p>5 rows × 25 columns</p>\n",
       "</div>"
      ],
      "text/plain": [
       "   Gender                  Occupation State Relationship_Status  \\\n",
       "0  Female  Clerical or service worker   VIC              single   \n",
       "1  Female                professional    WA             married   \n",
       "3  Female                  unemployed   NSW              single   \n",
       "4    Male                     retired    WA             married   \n",
       "5  Female                     retired   QLD             married   \n",
       "\n",
       "  Obligation_Category Rest_and_relax Luxury_be spoilt Do_sports  \\\n",
       "0                  Q4            yes               no        no   \n",
       "1                  Q1            yes              yes        no   \n",
       "3                  Q1            yes              yes        no   \n",
       "4                  Q2            yes               no        no   \n",
       "5                  Q4            yes               no        no   \n",
       "\n",
       "  excitement_a_challenge Not_exceed_planned_budget  ...  \\\n",
       "0                     no                        no  ...   \n",
       "1                     no                        no  ...   \n",
       "3                     no                       yes  ...   \n",
       "4                     no                       yes  ...   \n",
       "5                     no                       yes  ...   \n",
       "\n",
       "  Entertainment_facilities Not_care_about_prices  \\\n",
       "0                       no                    no   \n",
       "1                       no                    no   \n",
       "3                      yes                    no   \n",
       "4                       no                    no   \n",
       "5                       no                    no   \n",
       "\n",
       "  Life_style_of_the_local_people Intense_Experience_of_Nature  \\\n",
       "0                             no                           no   \n",
       "1                            yes                           no   \n",
       "3                             no                          yes   \n",
       "4                            yes                           no   \n",
       "5                             no                           no   \n",
       "\n",
       "  Cosiness_or_Familiar_Atmosphere Maintain_Unspoilt_Surroundings  \\\n",
       "0                              no                             no   \n",
       "1                              no                             no   \n",
       "3                              no                             no   \n",
       "4                              no                            yes   \n",
       "5                             yes                             no   \n",
       "\n",
       "  Everything_Organised Unspoilt_Nature_or_Natural_Landscape Cultural_Offers  \\\n",
       "0                   no                                   no              no   \n",
       "1                   no                                   no              no   \n",
       "3                   no                                   no              no   \n",
       "4                   no                                   no              no   \n",
       "5                   no                                   no              no   \n",
       "\n",
       "  Change_of_Surroundings  \n",
       "0                     no  \n",
       "1                    yes  \n",
       "3                    yes  \n",
       "4                     no  \n",
       "5                     no  \n",
       "\n",
       "[5 rows x 25 columns]"
      ]
     },
     "execution_count": 40,
     "metadata": {},
     "output_type": "execute_result"
    }
   ],
   "source": [
    "# Show first 5 observationsthe numerical Columns\n",
    "df_cat.head()"
   ]
  },
  {
   "cell_type": "code",
   "execution_count": 41,
   "id": "5a71ab34",
   "metadata": {},
   "outputs": [
    {
     "data": {
      "text/plain": [
       "Index(['Gender', 'Occupation', 'State', 'Relationship_Status',\n",
       "       'Obligation_Category', 'Rest_and_relax', 'Luxury_be spoilt',\n",
       "       'Do_sports', 'excitement_a_challenge', 'Not_exceed_planned_budget',\n",
       "       'Realise_creativity', 'Fun_and_entertainment', 'Good_company',\n",
       "       'Health_and_beauty', 'Free_and_easy_going', 'Entertainment_facilities',\n",
       "       'Not_care_about_prices', 'Life_style_of_the_local_people',\n",
       "       'Intense_Experience_of_Nature', 'Cosiness_or_Familiar_Atmosphere',\n",
       "       'Maintain_Unspoilt_Surroundings', 'Everything_Organised',\n",
       "       'Unspoilt_Nature_or_Natural_Landscape', 'Cultural_Offers',\n",
       "       'Change_of_Surroundings'],\n",
       "      dtype='object')"
      ]
     },
     "execution_count": 41,
     "metadata": {},
     "output_type": "execute_result"
    }
   ],
   "source": [
    "# Show the columns\n",
    "\n",
    "df_cat.columns"
   ]
  },
  {
   "cell_type": "markdown",
   "id": "861156cf",
   "metadata": {},
   "source": [
    "#### Gender"
   ]
  },
  {
   "cell_type": "code",
   "execution_count": 42,
   "id": "443efc0d",
   "metadata": {},
   "outputs": [
    {
     "data": {
      "text/plain": [
       "Gender\n",
       "Male      482\n",
       "Female    430\n",
       "Name: count, dtype: int64"
      ]
     },
     "execution_count": 42,
     "metadata": {},
     "output_type": "execute_result"
    }
   ],
   "source": [
    "# find the count\n",
    "\n",
    "df_cat.Gender.value_counts()"
   ]
  },
  {
   "cell_type": "code",
   "execution_count": 43,
   "id": "dc6dab7e",
   "metadata": {},
   "outputs": [
    {
     "data": {
      "image/png": "[encoded data removed]",
      "text/plain": [
       "<Figure size 640x480 with 1 Axes>"
      ]
     },
     "metadata": {},
     "output_type": "display_data"
    }
   ],
   "source": [
    "# Show the plot\n",
    "\n",
    "df_cat.Gender.value_counts().plot(kind='bar', color='#9c6644', title='Gender Distribution', grid=True)\n",
    "plt.xticks(rotation=0)\n",
    "plt.ylabel('Count')\n",
    "plt.show()"
   ]
  },
  {
   "cell_type": "markdown",
   "id": "55dadf94",
   "metadata": {},
   "source": [
    "**Interpretation**\n",
    "\n",
    "- We have 482 male and 430 female persons going on vacation\n",
    "- The Data is quite Balanced"
   ]
  },
  {
   "cell_type": "code",
   "execution_count": 44,
   "id": "1f6867e7",
   "metadata": {},
   "outputs": [
    {
     "data": {
      "text/plain": [
       "Index(['Gender', 'Occupation', 'State', 'Relationship_Status',\n",
       "       'Obligation_Category', 'Rest_and_relax', 'Luxury_be spoilt',\n",
       "       'Do_sports', 'excitement_a_challenge', 'Not_exceed_planned_budget',\n",
       "       'Realise_creativity', 'Fun_and_entertainment', 'Good_company',\n",
       "       'Health_and_beauty', 'Free_and_easy_going', 'Entertainment_facilities',\n",
       "       'Not_care_about_prices', 'Life_style_of_the_local_people',\n",
       "       'Intense_Experience_of_Nature', 'Cosiness_or_Familiar_Atmosphere',\n",
       "       'Maintain_Unspoilt_Surroundings', 'Everything_Organised',\n",
       "       'Unspoilt_Nature_or_Natural_Landscape', 'Cultural_Offers',\n",
       "       'Change_of_Surroundings'],\n",
       "      dtype='object')"
      ]
     },
     "execution_count": 44,
     "metadata": {},
     "output_type": "execute_result"
    }
   ],
   "source": [
    "# Show the columns\n",
    "\n",
    "df_cat.columns\n"
   ]
  },
  {
   "cell_type": "markdown",
   "id": "d9f445d1",
   "metadata": {},
   "source": [
    "#### Occupation"
   ]
  },
  {
   "cell_type": "code",
   "execution_count": 45,
   "id": "9a98c75b",
   "metadata": {},
   "outputs": [
    {
     "data": {
      "text/plain": [
       "Occupation\n",
       "professional                  253\n",
       "manager or administrator      180\n",
       "Clerical or service worker     99\n",
       "retired                        87\n",
       "home-duties                    75\n",
       "sales                          61\n",
       "small business owner           56\n",
       "unemployed                     35\n",
       "tradesperson                   27\n",
       "transport worker               20\n",
       "labourer                       19\n",
       "Name: count, dtype: int64"
      ]
     },
     "execution_count": 45,
     "metadata": {},
     "output_type": "execute_result"
    }
   ],
   "source": [
    "# find the count\n",
    "\n",
    "df_cat.Occupation.value_counts()"
   ]
  },
  {
   "cell_type": "code",
   "execution_count": 46,
   "id": "4b8d41b9",
   "metadata": {},
   "outputs": [
    {
     "data": {
      "image/png": "[encoded data removed]",
      "text/plain": [
       "<Figure size 640x480 with 1 Axes>"
      ]
     },
     "metadata": {},
     "output_type": "display_data"
    }
   ],
   "source": [
    "df_cat.Occupation.value_counts().plot(kind='bar',color='#9c6644',title='Occupation Distribution',grid=True)\n",
    "plt.ylabel('Count')\n",
    "plt.show()\n"
   ]
  },
  {
   "cell_type": "markdown",
   "id": "cc42ef41",
   "metadata": {},
   "source": [
    "**Interpretation**\n",
    "\n",
    "- We have 253 professionals on Vacation\n",
    "- We have 180 manager or administrator on Vacation\n",
    "- We have 99 Clerical or service worker on Vacation\n",
    "- We have 87 retired on Vacation\n",
    "- We have 75 home-duties on Vacation\n",
    "- We have 61 sales on Vacation\n",
    "- We have 56 small business owner on Vacation\n",
    "- We have 35 unemployed on Vacation\n",
    "- We have 27 tradesperson on Vacation\n",
    "- We have 20 transport worker on Vacation\n",
    "- We have 19 labourer on Vacation"
   ]
  },
  {
   "cell_type": "code",
   "execution_count": 47,
   "id": "44b8b550",
   "metadata": {},
   "outputs": [
    {
     "data": {
      "text/plain": [
       "Index(['Gender', 'Occupation', 'State', 'Relationship_Status',\n",
       "       'Obligation_Category', 'Rest_and_relax', 'Luxury_be spoilt',\n",
       "       'Do_sports', 'excitement_a_challenge', 'Not_exceed_planned_budget',\n",
       "       'Realise_creativity', 'Fun_and_entertainment', 'Good_company',\n",
       "       'Health_and_beauty', 'Free_and_easy_going', 'Entertainment_facilities',\n",
       "       'Not_care_about_prices', 'Life_style_of_the_local_people',\n",
       "       'Intense_Experience_of_Nature', 'Cosiness_or_Familiar_Atmosphere',\n",
       "       'Maintain_Unspoilt_Surroundings', 'Everything_Organised',\n",
       "       'Unspoilt_Nature_or_Natural_Landscape', 'Cultural_Offers',\n",
       "       'Change_of_Surroundings'],\n",
       "      dtype='object')"
      ]
     },
     "execution_count": 47,
     "metadata": {},
     "output_type": "execute_result"
    }
   ],
   "source": [
    "# Show the columns\n",
    "\n",
    "df_cat.columns\n"
   ]
  },
  {
   "cell_type": "markdown",
   "id": "fa960e75",
   "metadata": {},
   "source": [
    "#### State"
   ]
  },
  {
   "cell_type": "code",
   "execution_count": 48,
   "id": "cc112503",
   "metadata": {},
   "outputs": [
    {
     "data": {
      "text/plain": [
       "State\n",
       "NSW    298\n",
       "VIC    245\n",
       "QLD    186\n",
       "WA      81\n",
       "SA      63\n",
       "ACT     21\n",
       "Tas     12\n",
       "NT       6\n",
       "Name: count, dtype: int64"
      ]
     },
     "execution_count": 48,
     "metadata": {},
     "output_type": "execute_result"
    }
   ],
   "source": [
    "df_cat.State.value_counts()"
   ]
  },
  {
   "cell_type": "code",
   "execution_count": 49,
   "id": "30a87409",
   "metadata": {},
   "outputs": [
    {
     "data": {
      "image/png": "[encoded data removed]",
      "text/plain": [
       "<Figure size 640x480 with 1 Axes>"
      ]
     },
     "metadata": {},
     "output_type": "display_data"
    }
   ],
   "source": [
    "df_cat.State.value_counts().plot(kind='bar',color='#9c6644',title='State Distribution',grid=True)\n",
    "plt.ylabel('Count')\n",
    "plt.xticks(rotation=0)\n",
    "plt.show()"
   ]
  },
  {
   "cell_type": "markdown",
   "id": "b06b46d7",
   "metadata": {},
   "source": [
    "**Interpretation**\n",
    "\n",
    "- We have 298 people who would go to NSW state for vacation\n",
    "- We have 245 people who would go to VIC state for vacation\n",
    "- We have 186 people who would go to QLD state for vacation\n",
    "- We have 81 people who would go to WA state for vacation\n",
    "- We have 63 people who would go to SA state for vacation\n",
    "- We have 21 people who would go to ACT state for vacation\n",
    "- We have 12 people who would go to TAS state for vacation\n",
    "- We have 6 people who would go to NT state for vacation"
   ]
  },
  {
   "cell_type": "code",
   "execution_count": 50,
   "id": "d13c7bfc",
   "metadata": {},
   "outputs": [
    {
     "data": {
      "text/plain": [
       "Index(['Gender', 'Occupation', 'State', 'Relationship_Status',\n",
       "       'Obligation_Category', 'Rest_and_relax', 'Luxury_be spoilt',\n",
       "       'Do_sports', 'excitement_a_challenge', 'Not_exceed_planned_budget',\n",
       "       'Realise_creativity', 'Fun_and_entertainment', 'Good_company',\n",
       "       'Health_and_beauty', 'Free_and_easy_going', 'Entertainment_facilities',\n",
       "       'Not_care_about_prices', 'Life_style_of_the_local_people',\n",
       "       'Intense_Experience_of_Nature', 'Cosiness_or_Familiar_Atmosphere',\n",
       "       'Maintain_Unspoilt_Surroundings', 'Everything_Organised',\n",
       "       'Unspoilt_Nature_or_Natural_Landscape', 'Cultural_Offers',\n",
       "       'Change_of_Surroundings'],\n",
       "      dtype='object')"
      ]
     },
     "execution_count": 50,
     "metadata": {},
     "output_type": "execute_result"
    }
   ],
   "source": [
    "# show the columns\n",
    "\n",
    "df_cat.columns"
   ]
  },
  {
   "cell_type": "markdown",
   "id": "62235b28",
   "metadata": {},
   "source": [
    "#### Relationship Status"
   ]
  },
  {
   "cell_type": "code",
   "execution_count": 51,
   "id": "0e97f836",
   "metadata": {},
   "outputs": [
    {
     "data": {
      "text/plain": [
       "Relationship_Status\n",
       "married                  481\n",
       "single                   191\n",
       "living with a partner    133\n",
       "separated or divorced     95\n",
       "widowed                   12\n",
       "Name: count, dtype: int64"
      ]
     },
     "execution_count": 51,
     "metadata": {},
     "output_type": "execute_result"
    }
   ],
   "source": [
    "# find the count\n",
    "\n",
    "df_cat.Relationship_Status.value_counts()"
   ]
  },
  {
   "cell_type": "code",
   "execution_count": 52,
   "id": "e0c8e89b",
   "metadata": {},
   "outputs": [
    {
     "data": {
      "image/png": "[encoded data removed]",
      "text/plain": [
       "<Figure size 640x480 with 1 Axes>"
      ]
     },
     "metadata": {},
     "output_type": "display_data"
    }
   ],
   "source": [
    "# plot the data\n",
    "\n",
    "df_cat.Relationship_Status.value_counts().plot(kind='bar',color='#9c6644',title='Relationship Status Distribution',grid=True)\n",
    "plt.ylabel('Count')\n",
    "plt.show()"
   ]
  },
  {
   "cell_type": "markdown",
   "id": "f774af1d",
   "metadata": {},
   "source": [
    "**Interpretation:**\n",
    "\n",
    "- We have 481 Married Individuals for the vacation\n",
    "- We have 119 Single Individuals for the vacation\n",
    "- We have 133 Invididuals who are living with a partner for the vacation\n",
    "- We have 95 seprated of divorced individuals for the vacation\n",
    "- We have 12 widowed individuals for the vacation"
   ]
  },
  {
   "cell_type": "code",
   "execution_count": 53,
   "id": "e8dc4bb9",
   "metadata": {},
   "outputs": [
    {
     "data": {
      "text/plain": [
       "Index(['Gender', 'Occupation', 'State', 'Relationship_Status',\n",
       "       'Obligation_Category', 'Rest_and_relax', 'Luxury_be spoilt',\n",
       "       'Do_sports', 'excitement_a_challenge', 'Not_exceed_planned_budget',\n",
       "       'Realise_creativity', 'Fun_and_entertainment', 'Good_company',\n",
       "       'Health_and_beauty', 'Free_and_easy_going', 'Entertainment_facilities',\n",
       "       'Not_care_about_prices', 'Life_style_of_the_local_people',\n",
       "       'Intense_Experience_of_Nature', 'Cosiness_or_Familiar_Atmosphere',\n",
       "       'Maintain_Unspoilt_Surroundings', 'Everything_Organised',\n",
       "       'Unspoilt_Nature_or_Natural_Landscape', 'Cultural_Offers',\n",
       "       'Change_of_Surroundings'],\n",
       "      dtype='object')"
      ]
     },
     "execution_count": 53,
     "metadata": {},
     "output_type": "execute_result"
    }
   ],
   "source": [
    "# Show the columns\n",
    "\n",
    "df_cat.columns\n"
   ]
  },
  {
   "cell_type": "markdown",
   "id": "adee2b5e",
   "metadata": {},
   "source": [
    "#### Obligation Category"
   ]
  },
  {
   "cell_type": "code",
   "execution_count": 54,
   "id": "f43b2787",
   "metadata": {},
   "outputs": [
    {
     "data": {
      "text/plain": [
       "Obligation_Category\n",
       "Q2    238\n",
       "Q3    231\n",
       "Q1    226\n",
       "Q4    217\n",
       "Name: count, dtype: int64"
      ]
     },
     "execution_count": 54,
     "metadata": {},
     "output_type": "execute_result"
    }
   ],
   "source": [
    "# show the count\n",
    "df_cat.Obligation_Category.value_counts()"
   ]
  },
  {
   "cell_type": "code",
   "execution_count": 55,
   "id": "572e2626",
   "metadata": {},
   "outputs": [
    {
     "data": {
      "image/png": "[encoded data removed]",
      "text/plain": [
       "<Figure size 640x480 with 1 Axes>"
      ]
     },
     "metadata": {},
     "output_type": "display_data"
    }
   ],
   "source": [
    "# plot the data\n",
    "\n",
    "df_cat.Obligation_Category.value_counts().plot(kind='bar',color='#9c6644',title='Obligation Category Distribution',grid=True)\n",
    "plt.ylabel('Count')\n",
    "plt.xticks(rotation=0)\n",
    "plt.show()"
   ]
  },
  {
   "cell_type": "markdown",
   "id": "1809081f",
   "metadata": {},
   "source": [
    "**Interpretation**\n",
    "\n",
    "- We have 222 people with Q1 Obligation.\n",
    "- We have 238 people with Q2 Obligation.\n",
    "- We have 220 people with Q3 Obligation.\n",
    "- We have 220 people with Q4 Obligation.\n",
    "- Data is quite Balanced\n"
   ]
  },
  {
   "cell_type": "code",
   "execution_count": 56,
   "id": "23d09585",
   "metadata": {},
   "outputs": [
    {
     "data": {
      "text/plain": [
       "Index(['Gender', 'Occupation', 'State', 'Relationship_Status',\n",
       "       'Obligation_Category', 'Rest_and_relax', 'Luxury_be spoilt',\n",
       "       'Do_sports', 'excitement_a_challenge', 'Not_exceed_planned_budget',\n",
       "       'Realise_creativity', 'Fun_and_entertainment', 'Good_company',\n",
       "       'Health_and_beauty', 'Free_and_easy_going', 'Entertainment_facilities',\n",
       "       'Not_care_about_prices', 'Life_style_of_the_local_people',\n",
       "       'Intense_Experience_of_Nature', 'Cosiness_or_Familiar_Atmosphere',\n",
       "       'Maintain_Unspoilt_Surroundings', 'Everything_Organised',\n",
       "       'Unspoilt_Nature_or_Natural_Landscape', 'Cultural_Offers',\n",
       "       'Change_of_Surroundings'],\n",
       "      dtype='object')"
      ]
     },
     "execution_count": 56,
     "metadata": {},
     "output_type": "execute_result"
    }
   ],
   "source": [
    "# Show the Columns\n",
    "\n",
    "df_cat.columns"
   ]
  },
  {
   "cell_type": "markdown",
   "id": "44131eb4",
   "metadata": {},
   "source": [
    "#### Rest and Relax"
   ]
  },
  {
   "cell_type": "code",
   "execution_count": 57,
   "id": "4ad03cb4",
   "metadata": {},
   "outputs": [
    {
     "data": {
      "text/plain": [
       "Rest_and_relax\n",
       "yes    825\n",
       "no      87\n",
       "Name: count, dtype: int64"
      ]
     },
     "execution_count": 57,
     "metadata": {},
     "output_type": "execute_result"
    }
   ],
   "source": [
    "# show the count\n",
    "df_cat.Rest_and_relax.value_counts()"
   ]
  },
  {
   "cell_type": "code",
   "execution_count": 58,
   "id": "1b148b8b",
   "metadata": {},
   "outputs": [
    {
     "data": {
      "image/png": "[encoded data removed]",
      "text/plain": [
       "<Figure size 640x480 with 1 Axes>"
      ]
     },
     "metadata": {},
     "output_type": "display_data"
    }
   ],
   "source": [
    "# plot the data\n",
    "\n",
    "df_cat.Rest_and_relax.value_counts().plot(kind='bar',color='#9c6644',title='Rest and Relax Distribution',grid=True)\n",
    "plt.ylabel('Count')\n",
    "plt.xticks(rotation=0)\n",
    "plt.show()"
   ]
  },
  {
   "cell_type": "markdown",
   "id": "0eda17a5",
   "metadata": {},
   "source": [
    "**Interpretation**\n",
    "\n",
    "- We have 825 people who like to relax and rest on vacation\n",
    "- We have 87 people who do not like to relax and rest on vacation\n",
    "- Data is imbalanced"
   ]
  },
  {
   "cell_type": "code",
   "execution_count": 59,
   "id": "013449e8",
   "metadata": {},
   "outputs": [
    {
     "data": {
      "text/plain": [
       "Index(['Gender', 'Occupation', 'State', 'Relationship_Status',\n",
       "       'Obligation_Category', 'Rest_and_relax', 'Luxury_be spoilt',\n",
       "       'Do_sports', 'excitement_a_challenge', 'Not_exceed_planned_budget',\n",
       "       'Realise_creativity', 'Fun_and_entertainment', 'Good_company',\n",
       "       'Health_and_beauty', 'Free_and_easy_going', 'Entertainment_facilities',\n",
       "       'Not_care_about_prices', 'Life_style_of_the_local_people',\n",
       "       'Intense_Experience_of_Nature', 'Cosiness_or_Familiar_Atmosphere',\n",
       "       'Maintain_Unspoilt_Surroundings', 'Everything_Organised',\n",
       "       'Unspoilt_Nature_or_Natural_Landscape', 'Cultural_Offers',\n",
       "       'Change_of_Surroundings'],\n",
       "      dtype='object')"
      ]
     },
     "execution_count": 59,
     "metadata": {},
     "output_type": "execute_result"
    }
   ],
   "source": [
    "# show the columns\n",
    "\n",
    "df_cat.columns"
   ]
  },
  {
   "cell_type": "markdown",
   "id": "f27c4da3",
   "metadata": {},
   "source": [
    "#### Luxury be Spoilt"
   ]
  },
  {
   "cell_type": "code",
   "execution_count": 60,
   "id": "c33e0d09",
   "metadata": {},
   "outputs": [
    {
     "data": {
      "text/plain": [
       "Luxury_be spoilt\n",
       "no     659\n",
       "yes    253\n",
       "Name: count, dtype: int64"
      ]
     },
     "execution_count": 60,
     "metadata": {},
     "output_type": "execute_result"
    }
   ],
   "source": [
    "# show the count\n",
    "\n",
    "df_cat['Luxury_be spoilt'].value_counts()"
   ]
  },
  {
   "cell_type": "code",
   "execution_count": 61,
   "id": "4101d52d",
   "metadata": {},
   "outputs": [
    {
     "data": {
      "image/png": "[encoded data removed]",
      "text/plain": [
       "<Figure size 640x480 with 1 Axes>"
      ]
     },
     "metadata": {},
     "output_type": "display_data"
    }
   ],
   "source": [
    "# Plot the data\n",
    "\n",
    "df_cat['Luxury_be spoilt'].value_counts().plot(kind='bar',color='#9c6644',title='Luxury be spoilt Distribution',grid=True)\n",
    "plt.ylabel('Count')\n",
    "plt.xticks(rotation=0)\n",
    "plt.show()\n"
   ]
  },
  {
   "cell_type": "markdown",
   "id": "cdc791c8",
   "metadata": {},
   "source": [
    "**Interpretation:**\n",
    "\n",
    "- We have 659 people not interested in luxury\n",
    "- We have 253 people interested in luxury\n",
    "- Data is not balanced"
   ]
  },
  {
   "cell_type": "code",
   "execution_count": 62,
   "id": "2ff0561e",
   "metadata": {},
   "outputs": [
    {
     "data": {
      "text/plain": [
       "Index(['Gender', 'Occupation', 'State', 'Relationship_Status',\n",
       "       'Obligation_Category', 'Rest_and_relax', 'Luxury_be spoilt',\n",
       "       'Do_sports', 'excitement_a_challenge', 'Not_exceed_planned_budget',\n",
       "       'Realise_creativity', 'Fun_and_entertainment', 'Good_company',\n",
       "       'Health_and_beauty', 'Free_and_easy_going', 'Entertainment_facilities',\n",
       "       'Not_care_about_prices', 'Life_style_of_the_local_people',\n",
       "       'Intense_Experience_of_Nature', 'Cosiness_or_Familiar_Atmosphere',\n",
       "       'Maintain_Unspoilt_Surroundings', 'Everything_Organised',\n",
       "       'Unspoilt_Nature_or_Natural_Landscape', 'Cultural_Offers',\n",
       "       'Change_of_Surroundings'],\n",
       "      dtype='object')"
      ]
     },
     "execution_count": 62,
     "metadata": {},
     "output_type": "execute_result"
    }
   ],
   "source": [
    "# Show the columns\n",
    "\n",
    "df_cat.columns"
   ]
  },
  {
   "cell_type": "code",
   "execution_count": 63,
   "id": "8652d13e",
   "metadata": {},
   "outputs": [],
   "source": [
    "#### Do Sports"
   ]
  },
  {
   "cell_type": "code",
   "execution_count": 64,
   "id": "6d287754",
   "metadata": {},
   "outputs": [
    {
     "data": {
      "text/plain": [
       "Do_sports\n",
       "no     784\n",
       "yes    128\n",
       "Name: count, dtype: int64"
      ]
     },
     "execution_count": 64,
     "metadata": {},
     "output_type": "execute_result"
    }
   ],
   "source": [
    "# show the count\n",
    "\n",
    "df_cat.Do_sports.value_counts()"
   ]
  },
  {
   "cell_type": "code",
   "execution_count": 65,
   "id": "f87aa977",
   "metadata": {},
   "outputs": [
    {
     "data": {
      "image/png": "[encoded data removed]",
      "text/plain": [
       "<Figure size 640x480 with 1 Axes>"
      ]
     },
     "metadata": {},
     "output_type": "display_data"
    }
   ],
   "source": [
    "# plot the data\n",
    "\n",
    "df_cat.Do_sports.value_counts().plot(kind='bar',color='#9c6644',title='Do Sports Distribution',grid=True)\n",
    "plt.ylabel('Count')\n",
    "plt.xticks(rotation=0)\n",
    "plt.show()\n"
   ]
  },
  {
   "cell_type": "markdown",
   "id": "5403bd8e",
   "metadata": {},
   "source": [
    "**Interpretation**\n",
    "\n",
    "- We have 784 people who do sports and 128 people who do not do sports\n",
    "- Data is imbalanced"
   ]
  },
  {
   "cell_type": "code",
   "execution_count": 66,
   "id": "2f9314ec",
   "metadata": {},
   "outputs": [
    {
     "data": {
      "text/plain": [
       "Index(['Gender', 'Occupation', 'State', 'Relationship_Status',\n",
       "       'Obligation_Category', 'Rest_and_relax', 'Luxury_be spoilt',\n",
       "       'Do_sports', 'excitement_a_challenge', 'Not_exceed_planned_budget',\n",
       "       'Realise_creativity', 'Fun_and_entertainment', 'Good_company',\n",
       "       'Health_and_beauty', 'Free_and_easy_going', 'Entertainment_facilities',\n",
       "       'Not_care_about_prices', 'Life_style_of_the_local_people',\n",
       "       'Intense_Experience_of_Nature', 'Cosiness_or_Familiar_Atmosphere',\n",
       "       'Maintain_Unspoilt_Surroundings', 'Everything_Organised',\n",
       "       'Unspoilt_Nature_or_Natural_Landscape', 'Cultural_Offers',\n",
       "       'Change_of_Surroundings'],\n",
       "      dtype='object')"
      ]
     },
     "execution_count": 66,
     "metadata": {},
     "output_type": "execute_result"
    }
   ],
   "source": [
    "# Show the columns\n",
    "\n",
    "df_cat.columns\n"
   ]
  },
  {
   "cell_type": "markdown",
   "id": "d82f050f",
   "metadata": {},
   "source": [
    "#### Excitment a Challenge"
   ]
  },
  {
   "cell_type": "code",
   "execution_count": 67,
   "id": "47269c96",
   "metadata": {},
   "outputs": [
    {
     "data": {
      "text/plain": [
       "excitement_a_challenge\n",
       "no     601\n",
       "yes    311\n",
       "Name: count, dtype: int64"
      ]
     },
     "execution_count": 67,
     "metadata": {},
     "output_type": "execute_result"
    }
   ],
   "source": [
    "# show the count\n",
    "\n",
    "df_cat.excitement_a_challenge.value_counts()"
   ]
  },
  {
   "cell_type": "code",
   "execution_count": 68,
   "id": "439f810f",
   "metadata": {},
   "outputs": [
    {
     "data": {
      "image/png": "[encoded data removed]",
      "text/plain": [
       "<Figure size 640x480 with 1 Axes>"
      ]
     },
     "metadata": {},
     "output_type": "display_data"
    }
   ],
   "source": [
    "# plot the data\n",
    "\n",
    "df_cat.excitement_a_challenge.value_counts().plot(kind='bar',color='#9c6644',title='Excitement a Challenge Distribution',grid=True)\n",
    "plt.ylabel('Count')\n",
    "plt.xticks(rotation=0)\n",
    "plt.show()"
   ]
  },
  {
   "cell_type": "markdown",
   "id": "602c4c10",
   "metadata": {},
   "source": [
    "**Interpretation**\n",
    "\n",
    "- We have 601 people who like challlenges and 311 people who do not like challenges\n",
    "- Data is imbalances"
   ]
  },
  {
   "cell_type": "code",
   "execution_count": 69,
   "id": "428ef6e9",
   "metadata": {},
   "outputs": [
    {
     "data": {
      "text/plain": [
       "Index(['Gender', 'Occupation', 'State', 'Relationship_Status',\n",
       "       'Obligation_Category', 'Rest_and_relax', 'Luxury_be spoilt',\n",
       "       'Do_sports', 'excitement_a_challenge', 'Not_exceed_planned_budget',\n",
       "       'Realise_creativity', 'Fun_and_entertainment', 'Good_company',\n",
       "       'Health_and_beauty', 'Free_and_easy_going', 'Entertainment_facilities',\n",
       "       'Not_care_about_prices', 'Life_style_of_the_local_people',\n",
       "       'Intense_Experience_of_Nature', 'Cosiness_or_Familiar_Atmosphere',\n",
       "       'Maintain_Unspoilt_Surroundings', 'Everything_Organised',\n",
       "       'Unspoilt_Nature_or_Natural_Landscape', 'Cultural_Offers',\n",
       "       'Change_of_Surroundings'],\n",
       "      dtype='object')"
      ]
     },
     "execution_count": 69,
     "metadata": {},
     "output_type": "execute_result"
    }
   ],
   "source": [
    "# show the columns\n",
    "\n",
    "df_cat.columns"
   ]
  },
  {
   "cell_type": "code",
   "execution_count": 70,
   "id": "0fc68b1c",
   "metadata": {},
   "outputs": [
    {
     "data": {
      "text/plain": [
       "Not_exceed_planned_budget\n",
       "yes    470\n",
       "no     442\n",
       "Name: count, dtype: int64"
      ]
     },
     "execution_count": 70,
     "metadata": {},
     "output_type": "execute_result"
    }
   ],
   "source": [
    "# show the count\n",
    "\n",
    "df_cat.Not_exceed_planned_budget.value_counts()"
   ]
  },
  {
   "cell_type": "code",
   "execution_count": 71,
   "id": "3472e149",
   "metadata": {},
   "outputs": [
    {
     "data": {
      "image/png": "[encoded data removed]",
      "text/plain": [
       "<Figure size 640x480 with 1 Axes>"
      ]
     },
     "metadata": {},
     "output_type": "display_data"
    }
   ],
   "source": [
    "# plot the data\n",
    "\n",
    "df_cat.Not_exceed_planned_budget.value_counts().plot(kind='bar',color='#9c6644',title='Not Exceed Planned Budget Distribution',grid=True)\n",
    "plt.ylabel('Count')\n",
    "plt.xticks(rotation=0)\n",
    "plt.show()\n"
   ]
  },
  {
   "cell_type": "markdown",
   "id": "3a3043f6",
   "metadata": {},
   "source": [
    "**Intepretation**\n",
    "\n",
    "- We have 470 people who have a planned budget for their vacation and would not like it exceeded.\n",
    "- We have 442 people who have a planned budget for their vacation and would like it exceeded.\n",
    "- Data is quite balanced."
   ]
  },
  {
   "cell_type": "code",
   "execution_count": 72,
   "id": "420343f5",
   "metadata": {},
   "outputs": [
    {
     "data": {
      "text/plain": [
       "Index(['Gender', 'Occupation', 'State', 'Relationship_Status',\n",
       "       'Obligation_Category', 'Rest_and_relax', 'Luxury_be spoilt',\n",
       "       'Do_sports', 'excitement_a_challenge', 'Not_exceed_planned_budget',\n",
       "       'Realise_creativity', 'Fun_and_entertainment', 'Good_company',\n",
       "       'Health_and_beauty', 'Free_and_easy_going', 'Entertainment_facilities',\n",
       "       'Not_care_about_prices', 'Life_style_of_the_local_people',\n",
       "       'Intense_Experience_of_Nature', 'Cosiness_or_Familiar_Atmosphere',\n",
       "       'Maintain_Unspoilt_Surroundings', 'Everything_Organised',\n",
       "       'Unspoilt_Nature_or_Natural_Landscape', 'Cultural_Offers',\n",
       "       'Change_of_Surroundings'],\n",
       "      dtype='object')"
      ]
     },
     "execution_count": 72,
     "metadata": {},
     "output_type": "execute_result"
    }
   ],
   "source": [
    "#  show the columns\n",
    "\n",
    "df_cat.columns"
   ]
  },
  {
   "cell_type": "code",
   "execution_count": 73,
   "id": "95120433",
   "metadata": {},
   "outputs": [
    {
     "data": {
      "text/plain": [
       "Realise_creativity\n",
       "no     840\n",
       "yes     72\n",
       "Name: count, dtype: int64"
      ]
     },
     "execution_count": 73,
     "metadata": {},
     "output_type": "execute_result"
    }
   ],
   "source": [
    "# show the count\n",
    "\n",
    "df_cat.Realise_creativity.value_counts()\n"
   ]
  },
  {
   "cell_type": "code",
   "execution_count": 74,
   "id": "20a0b936",
   "metadata": {},
   "outputs": [
    {
     "data": {
      "image/png": "[encoded data removed]",
      "text/plain": [
       "<Figure size 640x480 with 1 Axes>"
      ]
     },
     "metadata": {},
     "output_type": "display_data"
    }
   ],
   "source": [
    "# plot the data\n",
    "\n",
    "df_cat.Realise_creativity.value_counts().plot(kind='bar',color='#9c6644',title='Realise Creativity Distribution',grid=True)\n",
    "plt.ylabel('Count')\n",
    "plt.xticks(rotation=0)\n",
    "plt.show()"
   ]
  },
  {
   "cell_type": "markdown",
   "id": "b5f6a7f7",
   "metadata": {},
   "source": [
    "**Interpretation**\n",
    "\n",
    "- We have 840 people who are interested in Realising Creativity\n",
    "- We have 72 people who are not interested in Realising Creativity\n",
    "- Data is imbalanced."
   ]
  },
  {
   "cell_type": "code",
   "execution_count": 75,
   "id": "ad7f7e7d",
   "metadata": {},
   "outputs": [
    {
     "data": {
      "text/plain": [
       "Index(['Gender', 'Occupation', 'State', 'Relationship_Status',\n",
       "       'Obligation_Category', 'Rest_and_relax', 'Luxury_be spoilt',\n",
       "       'Do_sports', 'excitement_a_challenge', 'Not_exceed_planned_budget',\n",
       "       'Realise_creativity', 'Fun_and_entertainment', 'Good_company',\n",
       "       'Health_and_beauty', 'Free_and_easy_going', 'Entertainment_facilities',\n",
       "       'Not_care_about_prices', 'Life_style_of_the_local_people',\n",
       "       'Intense_Experience_of_Nature', 'Cosiness_or_Familiar_Atmosphere',\n",
       "       'Maintain_Unspoilt_Surroundings', 'Everything_Organised',\n",
       "       'Unspoilt_Nature_or_Natural_Landscape', 'Cultural_Offers',\n",
       "       'Change_of_Surroundings'],\n",
       "      dtype='object')"
      ]
     },
     "execution_count": 75,
     "metadata": {},
     "output_type": "execute_result"
    }
   ],
   "source": [
    "# show the columns\n",
    "\n",
    "df_cat.columns"
   ]
  },
  {
   "cell_type": "code",
   "execution_count": 76,
   "id": "40048467",
   "metadata": {},
   "outputs": [],
   "source": [
    "#### Fun and Entertainment "
   ]
  },
  {
   "cell_type": "code",
   "execution_count": 77,
   "id": "7535a372",
   "metadata": {},
   "outputs": [
    {
     "data": {
      "text/plain": [
       "Fun_and_entertainment\n",
       "yes    490\n",
       "no     422\n",
       "Name: count, dtype: int64"
      ]
     },
     "execution_count": 77,
     "metadata": {},
     "output_type": "execute_result"
    }
   ],
   "source": [
    "# show the count\n",
    "\n",
    "df_cat.Fun_and_entertainment.value_counts()"
   ]
  },
  {
   "cell_type": "code",
   "execution_count": 78,
   "id": "a930af70",
   "metadata": {},
   "outputs": [
    {
     "data": {
      "image/png": "[encoded data removed]",
      "text/plain": [
       "<Figure size 640x480 with 1 Axes>"
      ]
     },
     "metadata": {},
     "output_type": "display_data"
    }
   ],
   "source": [
    "# plot the data\n",
    "\n",
    "df_cat.Fun_and_entertainment.value_counts().plot(kind='bar',color='#9c6644',title='Fun and Entertainment Distribution',grid=True)\n",
    "plt.ylabel('Count')\n",
    "plt.xticks(rotation=0)\n",
    "plt.show()"
   ]
  },
  {
   "cell_type": "markdown",
   "id": "1d8dbcbb",
   "metadata": {},
   "source": [
    "**Interpretation:**\n",
    "\n",
    "- We have 490 people who are interested in Fun and Entertainment\n",
    "- We have 422 people who are interested in Fun and Entertainment\n",
    "- Data is quite balanced"
   ]
  },
  {
   "cell_type": "code",
   "execution_count": 79,
   "id": "8881ff9b",
   "metadata": {},
   "outputs": [
    {
     "data": {
      "text/plain": [
       "Index(['Gender', 'Occupation', 'State', 'Relationship_Status',\n",
       "       'Obligation_Category', 'Rest_and_relax', 'Luxury_be spoilt',\n",
       "       'Do_sports', 'excitement_a_challenge', 'Not_exceed_planned_budget',\n",
       "       'Realise_creativity', 'Fun_and_entertainment', 'Good_company',\n",
       "       'Health_and_beauty', 'Free_and_easy_going', 'Entertainment_facilities',\n",
       "       'Not_care_about_prices', 'Life_style_of_the_local_people',\n",
       "       'Intense_Experience_of_Nature', 'Cosiness_or_Familiar_Atmosphere',\n",
       "       'Maintain_Unspoilt_Surroundings', 'Everything_Organised',\n",
       "       'Unspoilt_Nature_or_Natural_Landscape', 'Cultural_Offers',\n",
       "       'Change_of_Surroundings'],\n",
       "      dtype='object')"
      ]
     },
     "execution_count": 79,
     "metadata": {},
     "output_type": "execute_result"
    }
   ],
   "source": [
    "# show the columns\n",
    "\n",
    "df_cat.columns\n"
   ]
  },
  {
   "cell_type": "code",
   "execution_count": 80,
   "id": "7b6998c0",
   "metadata": {},
   "outputs": [
    {
     "data": {
      "text/plain": [
       "Good_company\n",
       "no     483\n",
       "yes    429\n",
       "Name: count, dtype: int64"
      ]
     },
     "execution_count": 80,
     "metadata": {},
     "output_type": "execute_result"
    }
   ],
   "source": [
    "# show the count\n",
    "\n",
    "df_cat.Good_company.value_counts()\n"
   ]
  },
  {
   "cell_type": "code",
   "execution_count": 81,
   "id": "4a8a1a1b",
   "metadata": {},
   "outputs": [
    {
     "data": {
      "image/png": "[encoded data removed]",
      "text/plain": [
       "<Figure size 640x480 with 1 Axes>"
      ]
     },
     "metadata": {},
     "output_type": "display_data"
    }
   ],
   "source": [
    "# plot the data\n",
    "\n",
    "df_cat.Good_company.value_counts().plot(kind='bar',color='#9c6644',title='Good Company Distribution',grid=True)\n",
    "plt.ylabel('Count')\n",
    "plt.xticks(rotation=0)\n",
    "plt.show()"
   ]
  },
  {
   "cell_type": "markdown",
   "id": "de992944",
   "metadata": {},
   "source": [
    "**Interpretation**\n",
    "\n",
    "- We have 439 people who are good company\n",
    "- We have 483 people who are not good company\n",
    "- Data is quite balanced"
   ]
  },
  {
   "cell_type": "code",
   "execution_count": 82,
   "id": "629a5a97",
   "metadata": {},
   "outputs": [
    {
     "data": {
      "text/plain": [
       "Index(['Gender', 'Occupation', 'State', 'Relationship_Status',\n",
       "       'Obligation_Category', 'Rest_and_relax', 'Luxury_be spoilt',\n",
       "       'Do_sports', 'excitement_a_challenge', 'Not_exceed_planned_budget',\n",
       "       'Realise_creativity', 'Fun_and_entertainment', 'Good_company',\n",
       "       'Health_and_beauty', 'Free_and_easy_going', 'Entertainment_facilities',\n",
       "       'Not_care_about_prices', 'Life_style_of_the_local_people',\n",
       "       'Intense_Experience_of_Nature', 'Cosiness_or_Familiar_Atmosphere',\n",
       "       'Maintain_Unspoilt_Surroundings', 'Everything_Organised',\n",
       "       'Unspoilt_Nature_or_Natural_Landscape', 'Cultural_Offers',\n",
       "       'Change_of_Surroundings'],\n",
       "      dtype='object')"
      ]
     },
     "execution_count": 82,
     "metadata": {},
     "output_type": "execute_result"
    }
   ],
   "source": [
    "# show the columns\n",
    "\n",
    "df_cat.columns"
   ]
  },
  {
   "cell_type": "code",
   "execution_count": 83,
   "id": "807eed52",
   "metadata": {},
   "outputs": [],
   "source": [
    "#### Healt and Beauty"
   ]
  },
  {
   "cell_type": "code",
   "execution_count": 84,
   "id": "32271aeb",
   "metadata": {},
   "outputs": [
    {
     "data": {
      "text/plain": [
       "Health_and_beauty\n",
       "no     795\n",
       "yes    117\n",
       "Name: count, dtype: int64"
      ]
     },
     "execution_count": 84,
     "metadata": {},
     "output_type": "execute_result"
    }
   ],
   "source": [
    "# show the count\n",
    "df_cat.Health_and_beauty.value_counts()\n"
   ]
  },
  {
   "cell_type": "code",
   "execution_count": 85,
   "id": "59b28bd6",
   "metadata": {},
   "outputs": [
    {
     "data": {
      "image/png": "[encoded data removed]",
      "text/plain": [
       "<Figure size 640x480 with 1 Axes>"
      ]
     },
     "metadata": {},
     "output_type": "display_data"
    }
   ],
   "source": [
    "# plot the data\n",
    "\n",
    "df_cat.Health_and_beauty.value_counts().plot(kind='bar',color='#9c6644',title='Health and Beauty Distribution',grid=True)\n",
    "plt.ylabel('Count')\n",
    "plt.xticks(rotation=0)\n",
    "plt.show()\n"
   ]
  },
  {
   "cell_type": "markdown",
   "id": "99d28b9e",
   "metadata": {},
   "source": [
    "**Interpretation:**\n",
    "\n",
    "- We have 795 people not interested in heath and beauty\n",
    "- We have 117 people interested in health and beauty"
   ]
  },
  {
   "cell_type": "code",
   "execution_count": 86,
   "id": "93727f42",
   "metadata": {},
   "outputs": [
    {
     "data": {
      "text/plain": [
       "Index(['Gender', 'Occupation', 'State', 'Relationship_Status',\n",
       "       'Obligation_Category', 'Rest_and_relax', 'Luxury_be spoilt',\n",
       "       'Do_sports', 'excitement_a_challenge', 'Not_exceed_planned_budget',\n",
       "       'Realise_creativity', 'Fun_and_entertainment', 'Good_company',\n",
       "       'Health_and_beauty', 'Free_and_easy_going', 'Entertainment_facilities',\n",
       "       'Not_care_about_prices', 'Life_style_of_the_local_people',\n",
       "       'Intense_Experience_of_Nature', 'Cosiness_or_Familiar_Atmosphere',\n",
       "       'Maintain_Unspoilt_Surroundings', 'Everything_Organised',\n",
       "       'Unspoilt_Nature_or_Natural_Landscape', 'Cultural_Offers',\n",
       "       'Change_of_Surroundings'],\n",
       "      dtype='object')"
      ]
     },
     "execution_count": 86,
     "metadata": {},
     "output_type": "execute_result"
    }
   ],
   "source": [
    "# show the columns\n",
    "\n",
    "df_cat.columns"
   ]
  },
  {
   "cell_type": "markdown",
   "id": "42716533",
   "metadata": {},
   "source": [
    "#### Free and Easy Going"
   ]
  },
  {
   "cell_type": "code",
   "execution_count": 87,
   "id": "c8c388a2",
   "metadata": {},
   "outputs": [
    {
     "data": {
      "text/plain": [
       "Free_and_easy_going\n",
       "yes    488\n",
       "no     424\n",
       "Name: count, dtype: int64"
      ]
     },
     "execution_count": 87,
     "metadata": {},
     "output_type": "execute_result"
    }
   ],
   "source": [
    "# show the count\n",
    "\n",
    "df_cat.Free_and_easy_going.value_counts()\n"
   ]
  },
  {
   "cell_type": "code",
   "execution_count": 88,
   "id": "8a122628",
   "metadata": {},
   "outputs": [
    {
     "data": {
      "text/plain": [
       "<Axes: title={'center': 'Free and Easy Going Distribution'}, xlabel='Free_and_easy_going'>"
      ]
     },
     "execution_count": 88,
     "metadata": {},
     "output_type": "execute_result"
    },
    {
     "data": {
      "image/png": "[encoded data removed]",
      "text/plain": [
       "<Figure size 640x480 with 1 Axes>"
      ]
     },
     "metadata": {},
     "output_type": "display_data"
    }
   ],
   "source": [
    "# plot the data\n",
    "\n",
    "df_cat.Free_and_easy_going.value_counts().plot(kind='bar',color='#9c6644',title='Free and Easy Going Distribution',grid=True)"
   ]
  },
  {
   "cell_type": "markdown",
   "id": "e5e3dc0e",
   "metadata": {},
   "source": [
    "**Interpretation:**\n",
    "\n",
    "- We have 488 people who are free and easy going\n",
    "- We have 424 people who are not free and easy going"
   ]
  },
  {
   "cell_type": "code",
   "execution_count": 89,
   "id": "79fc8a8a",
   "metadata": {},
   "outputs": [
    {
     "data": {
      "text/plain": [
       "Index(['Gender', 'Occupation', 'State', 'Relationship_Status',\n",
       "       'Obligation_Category', 'Rest_and_relax', 'Luxury_be spoilt',\n",
       "       'Do_sports', 'excitement_a_challenge', 'Not_exceed_planned_budget',\n",
       "       'Realise_creativity', 'Fun_and_entertainment', 'Good_company',\n",
       "       'Health_and_beauty', 'Free_and_easy_going', 'Entertainment_facilities',\n",
       "       'Not_care_about_prices', 'Life_style_of_the_local_people',\n",
       "       'Intense_Experience_of_Nature', 'Cosiness_or_Familiar_Atmosphere',\n",
       "       'Maintain_Unspoilt_Surroundings', 'Everything_Organised',\n",
       "       'Unspoilt_Nature_or_Natural_Landscape', 'Cultural_Offers',\n",
       "       'Change_of_Surroundings'],\n",
       "      dtype='object')"
      ]
     },
     "execution_count": 89,
     "metadata": {},
     "output_type": "execute_result"
    }
   ],
   "source": [
    "# show the columns\n",
    "\n",
    "df_cat.columns\n"
   ]
  },
  {
   "cell_type": "markdown",
   "id": "8a5cb966",
   "metadata": {},
   "source": [
    "#### Entertainment Facilities\n"
   ]
  },
  {
   "cell_type": "code",
   "execution_count": 90,
   "id": "3ce26aa0",
   "metadata": {},
   "outputs": [
    {
     "data": {
      "text/plain": [
       "Entertainment_facilities\n",
       "no     737\n",
       "yes    175\n",
       "Name: count, dtype: int64"
      ]
     },
     "execution_count": 90,
     "metadata": {},
     "output_type": "execute_result"
    }
   ],
   "source": [
    "# show the count\n",
    "\n",
    "df_cat.Entertainment_facilities.value_counts()"
   ]
  },
  {
   "cell_type": "code",
   "execution_count": 91,
   "id": "aff050fd",
   "metadata": {},
   "outputs": [
    {
     "data": {
      "image/png": "[encoded data removed]",
      "text/plain": [
       "<Figure size 640x480 with 1 Axes>"
      ]
     },
     "metadata": {},
     "output_type": "display_data"
    }
   ],
   "source": [
    "# plot the data\n",
    "\n",
    "df_cat.Entertainment_facilities.value_counts().plot(kind='bar',color='#9c6644',title='Entertainment Facilities Distribution',grid=True)\n",
    "plt.ylabel('Count')\n",
    "plt.xticks(rotation=0)\n",
    "plt.show()"
   ]
  },
  {
   "cell_type": "code",
   "execution_count": 92,
   "id": "e3932e5d",
   "metadata": {},
   "outputs": [
    {
     "data": {
      "text/plain": [
       "Index(['Gender', 'Occupation', 'State', 'Relationship_Status',\n",
       "       'Obligation_Category', 'Rest_and_relax', 'Luxury_be spoilt',\n",
       "       'Do_sports', 'excitement_a_challenge', 'Not_exceed_planned_budget',\n",
       "       'Realise_creativity', 'Fun_and_entertainment', 'Good_company',\n",
       "       'Health_and_beauty', 'Free_and_easy_going', 'Entertainment_facilities',\n",
       "       'Not_care_about_prices', 'Life_style_of_the_local_people',\n",
       "       'Intense_Experience_of_Nature', 'Cosiness_or_Familiar_Atmosphere',\n",
       "       'Maintain_Unspoilt_Surroundings', 'Everything_Organised',\n",
       "       'Unspoilt_Nature_or_Natural_Landscape', 'Cultural_Offers',\n",
       "       'Change_of_Surroundings'],\n",
       "      dtype='object')"
      ]
     },
     "execution_count": 92,
     "metadata": {},
     "output_type": "execute_result"
    }
   ],
   "source": [
    "# show the columns\n",
    "\n",
    "df_cat.columns"
   ]
  },
  {
   "cell_type": "markdown",
   "id": "94567c1b",
   "metadata": {},
   "source": [
    "#### Not Care about prices"
   ]
  },
  {
   "cell_type": "code",
   "execution_count": 93,
   "id": "4831e681",
   "metadata": {},
   "outputs": [
    {
     "data": {
      "text/plain": [
       "Not_care_about_prices\n",
       "no     743\n",
       "yes    169\n",
       "Name: count, dtype: int64"
      ]
     },
     "execution_count": 93,
     "metadata": {},
     "output_type": "execute_result"
    }
   ],
   "source": [
    "# show the count\n",
    "\n",
    "df_cat.Not_care_about_prices.value_counts()\n"
   ]
  },
  {
   "cell_type": "code",
   "execution_count": 94,
   "id": "99491ead",
   "metadata": {},
   "outputs": [
    {
     "data": {
      "image/png": "[encoded data removed]",
      "text/plain": [
       "<Figure size 640x480 with 1 Axes>"
      ]
     },
     "metadata": {},
     "output_type": "display_data"
    }
   ],
   "source": [
    "# plot the data\n",
    "\n",
    "df_cat.Not_care_about_prices.value_counts().plot(kind='bar',color='#9c6644',title='Not Care about Prices Distribution',grid=True)\n",
    "plt.ylabel('Count')\n",
    "plt.xticks(rotation=0)\n",
    "plt.show()"
   ]
  },
  {
   "cell_type": "code",
   "execution_count": 95,
   "id": "495ca8ab",
   "metadata": {},
   "outputs": [
    {
     "data": {
      "text/plain": [
       "Index(['Gender', 'Occupation', 'State', 'Relationship_Status',\n",
       "       'Obligation_Category', 'Rest_and_relax', 'Luxury_be spoilt',\n",
       "       'Do_sports', 'excitement_a_challenge', 'Not_exceed_planned_budget',\n",
       "       'Realise_creativity', 'Fun_and_entertainment', 'Good_company',\n",
       "       'Health_and_beauty', 'Free_and_easy_going', 'Entertainment_facilities',\n",
       "       'Not_care_about_prices', 'Life_style_of_the_local_people',\n",
       "       'Intense_Experience_of_Nature', 'Cosiness_or_Familiar_Atmosphere',\n",
       "       'Maintain_Unspoilt_Surroundings', 'Everything_Organised',\n",
       "       'Unspoilt_Nature_or_Natural_Landscape', 'Cultural_Offers',\n",
       "       'Change_of_Surroundings'],\n",
       "      dtype='object')"
      ]
     },
     "execution_count": 95,
     "metadata": {},
     "output_type": "execute_result"
    }
   ],
   "source": [
    "# show the columns\n",
    "\n",
    "df_cat.columns\n"
   ]
  },
  {
   "cell_type": "markdown",
   "id": "9bce04ee",
   "metadata": {},
   "source": [
    "####Life Style of Local People"
   ]
  },
  {
   "cell_type": "code",
   "execution_count": 96,
   "id": "c6da8922",
   "metadata": {},
   "outputs": [
    {
     "data": {
      "text/plain": [
       "Life_style_of_the_local_people\n",
       "no     484\n",
       "yes    428\n",
       "Name: count, dtype: int64"
      ]
     },
     "execution_count": 96,
     "metadata": {},
     "output_type": "execute_result"
    }
   ],
   "source": [
    "# show the count\n",
    "\n",
    "df_cat.Life_style_of_the_local_people.value_counts()"
   ]
  },
  {
   "cell_type": "code",
   "execution_count": 97,
   "id": "8222a8fc",
   "metadata": {},
   "outputs": [
    {
     "data": {
      "image/png": "[encoded data removed]",
      "text/plain": [
       "<Figure size 640x480 with 1 Axes>"
      ]
     },
     "metadata": {},
     "output_type": "display_data"
    }
   ],
   "source": [
    "# plot the data\n",
    "\n",
    "plot_bar_chart(df_cat.Life_style_of_the_local_people.value_counts(), 'Life Style of Local People Distribution', 'Life Style of Local People', 'Count', 0)"
   ]
  },
  {
   "cell_type": "markdown",
   "id": "c5093da2",
   "metadata": {},
   "source": [
    "**Interpretation:**\n",
    "\n",
    "- We have 484 people who are not interested in life style of local people\n",
    "- We have 428 people who are interested in life style of local people"
   ]
  },
  {
   "cell_type": "code",
   "execution_count": 98,
   "id": "c15a081b",
   "metadata": {},
   "outputs": [
    {
     "data": {
      "text/plain": [
       "Index(['Gender', 'Occupation', 'State', 'Relationship_Status',\n",
       "       'Obligation_Category', 'Rest_and_relax', 'Luxury_be spoilt',\n",
       "       'Do_sports', 'excitement_a_challenge', 'Not_exceed_planned_budget',\n",
       "       'Realise_creativity', 'Fun_and_entertainment', 'Good_company',\n",
       "       'Health_and_beauty', 'Free_and_easy_going', 'Entertainment_facilities',\n",
       "       'Not_care_about_prices', 'Life_style_of_the_local_people',\n",
       "       'Intense_Experience_of_Nature', 'Cosiness_or_Familiar_Atmosphere',\n",
       "       'Maintain_Unspoilt_Surroundings', 'Everything_Organised',\n",
       "       'Unspoilt_Nature_or_Natural_Landscape', 'Cultural_Offers',\n",
       "       'Change_of_Surroundings'],\n",
       "      dtype='object')"
      ]
     },
     "execution_count": 98,
     "metadata": {},
     "output_type": "execute_result"
    }
   ],
   "source": [
    "# Show the columns\n",
    "\n",
    "df_cat.columns"
   ]
  },
  {
   "cell_type": "markdown",
   "id": "70db4fc7",
   "metadata": {},
   "source": [
    "#### Intense Experience of Nature"
   ]
  },
  {
   "cell_type": "code",
   "execution_count": 99,
   "id": "0754b864",
   "metadata": {},
   "outputs": [
    {
     "data": {
      "text/plain": [
       "Intense_Experience_of_Nature\n",
       "no     715\n",
       "yes    197\n",
       "Name: count, dtype: int64"
      ]
     },
     "execution_count": 99,
     "metadata": {},
     "output_type": "execute_result"
    }
   ],
   "source": [
    "# show the counts\n",
    "\n",
    "df_cat.Intense_Experience_of_Nature.value_counts()"
   ]
  },
  {
   "cell_type": "code",
   "execution_count": 100,
   "id": "cb507d32",
   "metadata": {},
   "outputs": [
    {
     "data": {
      "image/png": "[encoded data removed]",
      "text/plain": [
       "<Figure size 640x480 with 1 Axes>"
      ]
     },
     "metadata": {},
     "output_type": "display_data"
    }
   ],
   "source": [
    "# plot the data\n",
    "\n",
    "plot_bar_chart(df_cat.Intense_Experience_of_Nature.value_counts(), 'Intense Experience of Nature Distribution', 'Intense Experience of Nature', 'Count', 0)\n"
   ]
  },
  {
   "cell_type": "markdown",
   "id": "bd136c4d",
   "metadata": {},
   "source": [
    "**Interpretation:**\n",
    "\n",
    "- We have 715 people who are not interested in intense experience of nature\n",
    "- We have 197 people who are interested in intense experience of nature"
   ]
  },
  {
   "cell_type": "code",
   "execution_count": 101,
   "id": "33bac5e0",
   "metadata": {},
   "outputs": [
    {
     "data": {
      "text/plain": [
       "Index(['Gender', 'Occupation', 'State', 'Relationship_Status',\n",
       "       'Obligation_Category', 'Rest_and_relax', 'Luxury_be spoilt',\n",
       "       'Do_sports', 'excitement_a_challenge', 'Not_exceed_planned_budget',\n",
       "       'Realise_creativity', 'Fun_and_entertainment', 'Good_company',\n",
       "       'Health_and_beauty', 'Free_and_easy_going', 'Entertainment_facilities',\n",
       "       'Not_care_about_prices', 'Life_style_of_the_local_people',\n",
       "       'Intense_Experience_of_Nature', 'Cosiness_or_Familiar_Atmosphere',\n",
       "       'Maintain_Unspoilt_Surroundings', 'Everything_Organised',\n",
       "       'Unspoilt_Nature_or_Natural_Landscape', 'Cultural_Offers',\n",
       "       'Change_of_Surroundings'],\n",
       "      dtype='object')"
      ]
     },
     "execution_count": 101,
     "metadata": {},
     "output_type": "execute_result"
    }
   ],
   "source": [
    "# Show the columns\n",
    "\n",
    "df_cat.columns"
   ]
  },
  {
   "cell_type": "markdown",
   "id": "3d8590b9",
   "metadata": {},
   "source": [
    "#### Cosiness or Familiar Atmosphere"
   ]
  },
  {
   "cell_type": "code",
   "execution_count": 102,
   "id": "6cd69c6e",
   "metadata": {},
   "outputs": [
    {
     "data": {
      "text/plain": [
       "Cosiness_or_Familiar_Atmosphere\n",
       "no     744\n",
       "yes    168\n",
       "Name: count, dtype: int64"
      ]
     },
     "execution_count": 102,
     "metadata": {},
     "output_type": "execute_result"
    }
   ],
   "source": [
    "# show the counts\n",
    "\n",
    "df_cat.Cosiness_or_Familiar_Atmosphere.value_counts()"
   ]
  },
  {
   "cell_type": "code",
   "execution_count": 103,
   "id": "372549ab",
   "metadata": {},
   "outputs": [
    {
     "data": {
      "image/png": "[encoded data removed]",
      "text/plain": [
       "<Figure size 640x480 with 1 Axes>"
      ]
     },
     "metadata": {},
     "output_type": "display_data"
    }
   ],
   "source": [
    "# plot the data\n",
    "\n",
    "plot_bar_chart(df_cat.Cosiness_or_Familiar_Atmosphere.value_counts(), 'Cosiness or Familiar Atmosphere Distribution', 'Cosiness or Familiar Atmosphere', 'Count', 0)"
   ]
  },
  {
   "cell_type": "markdown",
   "id": "16f4170c",
   "metadata": {},
   "source": [
    "**Interpretation**\n",
    "\n",
    "- 744 people are not interested in cosiness or familiar atmosphere\n",
    "- 168 people are interested in cosiness or familiar atmosphere"
   ]
  },
  {
   "cell_type": "code",
   "execution_count": 104,
   "id": "d5060d0d",
   "metadata": {},
   "outputs": [
    {
     "data": {
      "text/plain": [
       "Index(['Gender', 'Occupation', 'State', 'Relationship_Status',\n",
       "       'Obligation_Category', 'Rest_and_relax', 'Luxury_be spoilt',\n",
       "       'Do_sports', 'excitement_a_challenge', 'Not_exceed_planned_budget',\n",
       "       'Realise_creativity', 'Fun_and_entertainment', 'Good_company',\n",
       "       'Health_and_beauty', 'Free_and_easy_going', 'Entertainment_facilities',\n",
       "       'Not_care_about_prices', 'Life_style_of_the_local_people',\n",
       "       'Intense_Experience_of_Nature', 'Cosiness_or_Familiar_Atmosphere',\n",
       "       'Maintain_Unspoilt_Surroundings', 'Everything_Organised',\n",
       "       'Unspoilt_Nature_or_Natural_Landscape', 'Cultural_Offers',\n",
       "       'Change_of_Surroundings'],\n",
       "      dtype='object')"
      ]
     },
     "execution_count": 104,
     "metadata": {},
     "output_type": "execute_result"
    }
   ],
   "source": [
    "# Show the columns\n",
    "\n",
    "df_cat.columns"
   ]
  },
  {
   "cell_type": "markdown",
   "id": "f9fbe5a3",
   "metadata": {},
   "source": [
    "#### Maintain Unsploit Surroundings"
   ]
  },
  {
   "cell_type": "code",
   "execution_count": 105,
   "id": "4ff22aee",
   "metadata": {},
   "outputs": [
    {
     "data": {
      "text/plain": [
       "Maintain_Unspoilt_Surroundings\n",
       "no     631\n",
       "yes    281\n",
       "Name: count, dtype: int64"
      ]
     },
     "execution_count": 105,
     "metadata": {},
     "output_type": "execute_result"
    }
   ],
   "source": [
    "# show the counts\n",
    "\n",
    "df_cat.Maintain_Unspoilt_Surroundings.value_counts()"
   ]
  },
  {
   "cell_type": "code",
   "execution_count": 106,
   "id": "66264463",
   "metadata": {},
   "outputs": [
    {
     "data": {
      "image/png": "[encoded data removed]",
      "text/plain": [
       "<Figure size 640x480 with 1 Axes>"
      ]
     },
     "metadata": {},
     "output_type": "display_data"
    }
   ],
   "source": [
    "# plot the data\n",
    "\n",
    "plot_bar_chart(df_cat.Maintain_Unspoilt_Surroundings.value_counts(), 'Maintain Unspoilt Surroundings Distribution', 'Maintain Unspoilt Surroundings', 'Count', 0)"
   ]
  },
  {
   "cell_type": "markdown",
   "id": "877de25f",
   "metadata": {},
   "source": [
    "**Interpretation:**\n",
    "\n",
    "- 631 people are not interested in maintain unspoilt surroundings\n",
    "- 281 people are interested in maintain unspoilt surroundings"
   ]
  },
  {
   "cell_type": "code",
   "execution_count": 107,
   "id": "20df35a4",
   "metadata": {},
   "outputs": [
    {
     "data": {
      "text/plain": [
       "Index(['Gender', 'Occupation', 'State', 'Relationship_Status',\n",
       "       'Obligation_Category', 'Rest_and_relax', 'Luxury_be spoilt',\n",
       "       'Do_sports', 'excitement_a_challenge', 'Not_exceed_planned_budget',\n",
       "       'Realise_creativity', 'Fun_and_entertainment', 'Good_company',\n",
       "       'Health_and_beauty', 'Free_and_easy_going', 'Entertainment_facilities',\n",
       "       'Not_care_about_prices', 'Life_style_of_the_local_people',\n",
       "       'Intense_Experience_of_Nature', 'Cosiness_or_Familiar_Atmosphere',\n",
       "       'Maintain_Unspoilt_Surroundings', 'Everything_Organised',\n",
       "       'Unspoilt_Nature_or_Natural_Landscape', 'Cultural_Offers',\n",
       "       'Change_of_Surroundings'],\n",
       "      dtype='object')"
      ]
     },
     "execution_count": 107,
     "metadata": {},
     "output_type": "execute_result"
    }
   ],
   "source": [
    "# Show the columns\n",
    "\n",
    "df_cat.columns"
   ]
  },
  {
   "cell_type": "markdown",
   "id": "a6de3bd0",
   "metadata": {},
   "source": [
    "#### Everything Organised"
   ]
  },
  {
   "cell_type": "code",
   "execution_count": 108,
   "id": "5173322c",
   "metadata": {},
   "outputs": [
    {
     "data": {
      "text/plain": [
       "Everything_Organised\n",
       "no     764\n",
       "yes    148\n",
       "Name: count, dtype: int64"
      ]
     },
     "execution_count": 108,
     "metadata": {},
     "output_type": "execute_result"
    }
   ],
   "source": [
    "# show the counts\n",
    "\n",
    "df_cat.Everything_Organised.value_counts()\n"
   ]
  },
  {
   "cell_type": "code",
   "execution_count": 109,
   "id": "7adf2fb2",
   "metadata": {},
   "outputs": [
    {
     "data": {
      "image/png": "[encoded data removed]",
      "text/plain": [
       "<Figure size 640x480 with 1 Axes>"
      ]
     },
     "metadata": {},
     "output_type": "display_data"
    }
   ],
   "source": [
    "# plot the data\n",
    "\n",
    "plot_bar_chart(df_cat.Everything_Organised.value_counts(), 'Everything Organised Distribution', 'Everything Organised', 'Count', 0)"
   ]
  },
  {
   "cell_type": "markdown",
   "id": "5024a4f6",
   "metadata": {},
   "source": [
    "**Interpretation:**\n",
    "\n",
    "- 764 people are not interested in everything organised\n",
    "- 148 people are interested in everything organised"
   ]
  },
  {
   "cell_type": "code",
   "execution_count": 110,
   "id": "f443d31e",
   "metadata": {},
   "outputs": [
    {
     "data": {
      "text/plain": [
       "Index(['Gender', 'Occupation', 'State', 'Relationship_Status',\n",
       "       'Obligation_Category', 'Rest_and_relax', 'Luxury_be spoilt',\n",
       "       'Do_sports', 'excitement_a_challenge', 'Not_exceed_planned_budget',\n",
       "       'Realise_creativity', 'Fun_and_entertainment', 'Good_company',\n",
       "       'Health_and_beauty', 'Free_and_easy_going', 'Entertainment_facilities',\n",
       "       'Not_care_about_prices', 'Life_style_of_the_local_people',\n",
       "       'Intense_Experience_of_Nature', 'Cosiness_or_Familiar_Atmosphere',\n",
       "       'Maintain_Unspoilt_Surroundings', 'Everything_Organised',\n",
       "       'Unspoilt_Nature_or_Natural_Landscape', 'Cultural_Offers',\n",
       "       'Change_of_Surroundings'],\n",
       "      dtype='object')"
      ]
     },
     "execution_count": 110,
     "metadata": {},
     "output_type": "execute_result"
    }
   ],
   "source": [
    "# Show the columns\n",
    "\n",
    "df_cat.columns\n"
   ]
  },
  {
   "cell_type": "markdown",
   "id": "38ca4e37",
   "metadata": {},
   "source": [
    "#### Unsploit Nature and Natural Landscape"
   ]
  },
  {
   "cell_type": "code",
   "execution_count": 111,
   "id": "5c746105",
   "metadata": {},
   "outputs": [
    {
     "data": {
      "text/plain": [
       "Unspoilt_Nature_or_Natural_Landscape\n",
       "no     669\n",
       "yes    243\n",
       "Name: count, dtype: int64"
      ]
     },
     "execution_count": 111,
     "metadata": {},
     "output_type": "execute_result"
    }
   ],
   "source": [
    "# show the counts\n",
    "\n",
    "df_cat.Unspoilt_Nature_or_Natural_Landscape.value_counts()"
   ]
  },
  {
   "cell_type": "code",
   "execution_count": 112,
   "id": "3c5c1b7f",
   "metadata": {},
   "outputs": [
    {
     "data": {
      "image/png": "[encoded data removed]",
      "text/plain": [
       "<Figure size 640x480 with 1 Axes>"
      ]
     },
     "metadata": {},
     "output_type": "display_data"
    }
   ],
   "source": [
    "# plot the data\n",
    "\n",
    "plot_bar_chart(df_cat.Unspoilt_Nature_or_Natural_Landscape.value_counts(), 'Unspoilt Nature or Natural Landscape Distribution', 'Unspoilt Nature or Natural Landscape', 'Count', 0)"
   ]
  },
  {
   "cell_type": "markdown",
   "id": "2d93a4bd",
   "metadata": {},
   "source": [
    "**Interpretation:**\n",
    "\n",
    "- 669 people are not interested in unspoilt nature or natural landscape\n",
    "- 243 people are interested in unspoilt nature or natural landscape"
   ]
  },
  {
   "cell_type": "code",
   "execution_count": 113,
   "id": "a8433ad2",
   "metadata": {},
   "outputs": [
    {
     "data": {
      "text/plain": [
       "Index(['Gender', 'Occupation', 'State', 'Relationship_Status',\n",
       "       'Obligation_Category', 'Rest_and_relax', 'Luxury_be spoilt',\n",
       "       'Do_sports', 'excitement_a_challenge', 'Not_exceed_planned_budget',\n",
       "       'Realise_creativity', 'Fun_and_entertainment', 'Good_company',\n",
       "       'Health_and_beauty', 'Free_and_easy_going', 'Entertainment_facilities',\n",
       "       'Not_care_about_prices', 'Life_style_of_the_local_people',\n",
       "       'Intense_Experience_of_Nature', 'Cosiness_or_Familiar_Atmosphere',\n",
       "       'Maintain_Unspoilt_Surroundings', 'Everything_Organised',\n",
       "       'Unspoilt_Nature_or_Natural_Landscape', 'Cultural_Offers',\n",
       "       'Change_of_Surroundings'],\n",
       "      dtype='object')"
      ]
     },
     "execution_count": 113,
     "metadata": {},
     "output_type": "execute_result"
    }
   ],
   "source": [
    "# Show the columns\n",
    "\n",
    "df_cat.columns"
   ]
  },
  {
   "cell_type": "markdown",
   "id": "90e243a6",
   "metadata": {},
   "source": [
    "#### Cultural Offers\n",
    "\n"
   ]
  },
  {
   "cell_type": "code",
   "execution_count": 114,
   "id": "0ccc9194",
   "metadata": {},
   "outputs": [
    {
     "data": {
      "text/plain": [
       "Cultural_Offers\n",
       "no     655\n",
       "yes    257\n",
       "Name: count, dtype: int64"
      ]
     },
     "execution_count": 114,
     "metadata": {},
     "output_type": "execute_result"
    }
   ],
   "source": [
    "# show the counts\n",
    "\n",
    "df_cat.Cultural_Offers.value_counts()"
   ]
  },
  {
   "cell_type": "code",
   "execution_count": 115,
   "id": "cbb501e1",
   "metadata": {},
   "outputs": [
    {
     "data": {
      "image/png": "[encoded data removed]",
      "text/plain": [
       "<Figure size 640x480 with 1 Axes>"
      ]
     },
     "metadata": {},
     "output_type": "display_data"
    }
   ],
   "source": [
    "# plot the data\n",
    "\n",
    "plot_bar_chart(df_cat.Cultural_Offers.value_counts(), 'Cultural Offers Distribution', 'Cultural Offers', 'Count', 0)"
   ]
  },
  {
   "cell_type": "markdown",
   "id": "b388a3d3",
   "metadata": {},
   "source": [
    "**Interpretation:**\n",
    "\n",
    "- 655 people are not interested in cultural offers\n",
    "- 257 people are interested in cultural offers"
   ]
  },
  {
   "cell_type": "code",
   "execution_count": 116,
   "id": "5a32713c",
   "metadata": {},
   "outputs": [
    {
     "data": {
      "text/plain": [
       "Index(['Gender', 'Occupation', 'State', 'Relationship_Status',\n",
       "       'Obligation_Category', 'Rest_and_relax', 'Luxury_be spoilt',\n",
       "       'Do_sports', 'excitement_a_challenge', 'Not_exceed_planned_budget',\n",
       "       'Realise_creativity', 'Fun_and_entertainment', 'Good_company',\n",
       "       'Health_and_beauty', 'Free_and_easy_going', 'Entertainment_facilities',\n",
       "       'Not_care_about_prices', 'Life_style_of_the_local_people',\n",
       "       'Intense_Experience_of_Nature', 'Cosiness_or_Familiar_Atmosphere',\n",
       "       'Maintain_Unspoilt_Surroundings', 'Everything_Organised',\n",
       "       'Unspoilt_Nature_or_Natural_Landscape', 'Cultural_Offers',\n",
       "       'Change_of_Surroundings'],\n",
       "      dtype='object')"
      ]
     },
     "execution_count": 116,
     "metadata": {},
     "output_type": "execute_result"
    }
   ],
   "source": [
    "# Show the columns\n",
    "\n",
    "df_cat.columns"
   ]
  },
  {
   "cell_type": "markdown",
   "id": "cbffaa64",
   "metadata": {},
   "source": [
    "#### Change of Surroundings"
   ]
  },
  {
   "cell_type": "code",
   "execution_count": 117,
   "id": "bddffa6b",
   "metadata": {},
   "outputs": [
    {
     "data": {
      "text/plain": [
       "Change_of_Surroundings\n",
       "yes    623\n",
       "no     289\n",
       "Name: count, dtype: int64"
      ]
     },
     "execution_count": 117,
     "metadata": {},
     "output_type": "execute_result"
    }
   ],
   "source": [
    "# show the counts\n",
    "\n",
    "df_cat.Change_of_Surroundings.value_counts()"
   ]
  },
  {
   "cell_type": "code",
   "execution_count": 118,
   "id": "22c5b6dd",
   "metadata": {},
   "outputs": [
    {
     "data": {
      "image/png": "[encoded data removed]",
      "text/plain": [
       "<Figure size 640x480 with 1 Axes>"
      ]
     },
     "metadata": {},
     "output_type": "display_data"
    }
   ],
   "source": [
    "# plot the data\n",
    "\n",
    "plot_bar_chart(df_cat.Change_of_Surroundings.value_counts(), 'Change of Surroundings Distribution', 'Change of Surroundings', 'Count', 0)"
   ]
  },
  {
   "cell_type": "markdown",
   "id": "db8b986d",
   "metadata": {},
   "source": [
    "**Interpretation:**\n",
    "\n",
    "- 623 people are not interested in change of surroundings\n",
    "- 289 people are interested in change"
   ]
  },
  {
   "cell_type": "markdown",
   "id": "e163025d",
   "metadata": {},
   "source": [
    " ## Bivariate Analysis"
   ]
  },
  {
   "cell_type": "code",
   "execution_count": 119,
   "id": "a92a0e47",
   "metadata": {},
   "outputs": [
    {
     "data": {
      "text/html": [
       "<div>\n",
       "<style scoped>\n",
       "    .dataframe tbody tr th:only-of-type {\n",
       "        vertical-align: middle;\n",
       "    }\n",
       "\n",
       "    .dataframe tbody tr th {\n",
       "        vertical-align: top;\n",
       "    }\n",
       "\n",
       "    .dataframe thead th {\n",
       "        text-align: right;\n",
       "    }\n",
       "</style>\n",
       "<table border=\"1\" class=\"dataframe\">\n",
       "  <thead>\n",
       "    <tr style=\"text-align: right;\">\n",
       "      <th></th>\n",
       "      <th>Gender</th>\n",
       "      <th>Age</th>\n",
       "      <th>Education</th>\n",
       "      <th>Occupation</th>\n",
       "      <th>State</th>\n",
       "      <th>Relationship_Status</th>\n",
       "      <th>Obligation_Rating</th>\n",
       "      <th>Obligation_Category</th>\n",
       "      <th>NEP</th>\n",
       "      <th>Vacation_Behaviour</th>\n",
       "      <th>...</th>\n",
       "      <th>Entertainment_facilities</th>\n",
       "      <th>Not_care_about_prices</th>\n",
       "      <th>Life_style_of_the_local_people</th>\n",
       "      <th>Intense_Experience_of_Nature</th>\n",
       "      <th>Cosiness_or_Familiar_Atmosphere</th>\n",
       "      <th>Maintain_Unspoilt_Surroundings</th>\n",
       "      <th>Everything_Organised</th>\n",
       "      <th>Unspoilt_Nature_or_Natural_Landscape</th>\n",
       "      <th>Cultural_Offers</th>\n",
       "      <th>Change_of_Surroundings</th>\n",
       "    </tr>\n",
       "  </thead>\n",
       "  <tbody>\n",
       "    <tr>\n",
       "      <th>0</th>\n",
       "      <td>Female</td>\n",
       "      <td>25</td>\n",
       "      <td>6.0</td>\n",
       "      <td>Clerical or service worker</td>\n",
       "      <td>VIC</td>\n",
       "      <td>single</td>\n",
       "      <td>4.800000</td>\n",
       "      <td>Q4</td>\n",
       "      <td>3.200000</td>\n",
       "      <td>2.066667</td>\n",
       "      <td>...</td>\n",
       "      <td>no</td>\n",
       "      <td>no</td>\n",
       "      <td>no</td>\n",
       "      <td>no</td>\n",
       "      <td>no</td>\n",
       "      <td>no</td>\n",
       "      <td>no</td>\n",
       "      <td>no</td>\n",
       "      <td>no</td>\n",
       "      <td>no</td>\n",
       "    </tr>\n",
       "    <tr>\n",
       "      <th>1</th>\n",
       "      <td>Female</td>\n",
       "      <td>31</td>\n",
       "      <td>8.0</td>\n",
       "      <td>professional</td>\n",
       "      <td>WA</td>\n",
       "      <td>married</td>\n",
       "      <td>3.300000</td>\n",
       "      <td>Q1</td>\n",
       "      <td>3.400000</td>\n",
       "      <td>2.000000</td>\n",
       "      <td>...</td>\n",
       "      <td>no</td>\n",
       "      <td>no</td>\n",
       "      <td>yes</td>\n",
       "      <td>no</td>\n",
       "      <td>no</td>\n",
       "      <td>no</td>\n",
       "      <td>no</td>\n",
       "      <td>no</td>\n",
       "      <td>no</td>\n",
       "      <td>yes</td>\n",
       "    </tr>\n",
       "    <tr>\n",
       "      <th>3</th>\n",
       "      <td>Female</td>\n",
       "      <td>18</td>\n",
       "      <td>2.0</td>\n",
       "      <td>unemployed</td>\n",
       "      <td>NSW</td>\n",
       "      <td>single</td>\n",
       "      <td>2.633333</td>\n",
       "      <td>Q1</td>\n",
       "      <td>3.400000</td>\n",
       "      <td>2.166667</td>\n",
       "      <td>...</td>\n",
       "      <td>yes</td>\n",
       "      <td>no</td>\n",
       "      <td>no</td>\n",
       "      <td>yes</td>\n",
       "      <td>no</td>\n",
       "      <td>no</td>\n",
       "      <td>no</td>\n",
       "      <td>no</td>\n",
       "      <td>no</td>\n",
       "      <td>yes</td>\n",
       "    </tr>\n",
       "    <tr>\n",
       "      <th>4</th>\n",
       "      <td>Male</td>\n",
       "      <td>61</td>\n",
       "      <td>3.0</td>\n",
       "      <td>retired</td>\n",
       "      <td>WA</td>\n",
       "      <td>married</td>\n",
       "      <td>3.400000</td>\n",
       "      <td>Q2</td>\n",
       "      <td>3.733333</td>\n",
       "      <td>1.724138</td>\n",
       "      <td>...</td>\n",
       "      <td>no</td>\n",
       "      <td>no</td>\n",
       "      <td>yes</td>\n",
       "      <td>no</td>\n",
       "      <td>no</td>\n",
       "      <td>yes</td>\n",
       "      <td>no</td>\n",
       "      <td>no</td>\n",
       "      <td>no</td>\n",
       "      <td>no</td>\n",
       "    </tr>\n",
       "    <tr>\n",
       "      <th>5</th>\n",
       "      <td>Female</td>\n",
       "      <td>63</td>\n",
       "      <td>7.0</td>\n",
       "      <td>retired</td>\n",
       "      <td>QLD</td>\n",
       "      <td>married</td>\n",
       "      <td>4.400000</td>\n",
       "      <td>Q4</td>\n",
       "      <td>4.266667</td>\n",
       "      <td>3.300000</td>\n",
       "      <td>...</td>\n",
       "      <td>no</td>\n",
       "      <td>no</td>\n",
       "      <td>no</td>\n",
       "      <td>no</td>\n",
       "      <td>yes</td>\n",
       "      <td>no</td>\n",
       "      <td>no</td>\n",
       "      <td>no</td>\n",
       "      <td>no</td>\n",
       "      <td>no</td>\n",
       "    </tr>\n",
       "  </tbody>\n",
       "</table>\n",
       "<p>5 rows × 30 columns</p>\n",
       "</div>"
      ],
      "text/plain": [
       "   Gender  Age  Education                  Occupation State  \\\n",
       "0  Female   25        6.0  Clerical or service worker   VIC   \n",
       "1  Female   31        8.0                professional    WA   \n",
       "3  Female   18        2.0                  unemployed   NSW   \n",
       "4    Male   61        3.0                     retired    WA   \n",
       "5  Female   63        7.0                     retired   QLD   \n",
       "\n",
       "  Relationship_Status  Obligation_Rating Obligation_Category       NEP  \\\n",
       "0              single           4.800000                  Q4  3.200000   \n",
       "1             married           3.300000                  Q1  3.400000   \n",
       "3              single           2.633333                  Q1  3.400000   \n",
       "4             married           3.400000                  Q2  3.733333   \n",
       "5             married           4.400000                  Q4  4.266667   \n",
       "\n",
       "   Vacation_Behaviour  ... Entertainment_facilities Not_care_about_prices  \\\n",
       "0            2.066667  ...                       no                    no   \n",
       "1            2.000000  ...                       no                    no   \n",
       "3            2.166667  ...                      yes                    no   \n",
       "4            1.724138  ...                       no                    no   \n",
       "5            3.300000  ...                       no                    no   \n",
       "\n",
       "  Life_style_of_the_local_people Intense_Experience_of_Nature  \\\n",
       "0                             no                           no   \n",
       "1                            yes                           no   \n",
       "3                             no                          yes   \n",
       "4                            yes                           no   \n",
       "5                             no                           no   \n",
       "\n",
       "  Cosiness_or_Familiar_Atmosphere Maintain_Unspoilt_Surroundings  \\\n",
       "0                              no                             no   \n",
       "1                              no                             no   \n",
       "3                              no                             no   \n",
       "4                              no                            yes   \n",
       "5                             yes                             no   \n",
       "\n",
       "  Everything_Organised Unspoilt_Nature_or_Natural_Landscape Cultural_Offers  \\\n",
       "0                   no                                   no              no   \n",
       "1                   no                                   no              no   \n",
       "3                   no                                   no              no   \n",
       "4                   no                                   no              no   \n",
       "5                   no                                   no              no   \n",
       "\n",
       "  Change_of_Surroundings  \n",
       "0                     no  \n",
       "1                    yes  \n",
       "3                    yes  \n",
       "4                     no  \n",
       "5                     no  \n",
       "\n",
       "[5 rows x 30 columns]"
      ]
     },
     "execution_count": 119,
     "metadata": {},
     "output_type": "execute_result"
    }
   ],
   "source": [
    "# Show the First five obersvatiosn of main \n",
    "\n",
    "df_vacation_data.head()"
   ]
  },
  {
   "cell_type": "code",
   "execution_count": 120,
   "id": "92613455",
   "metadata": {},
   "outputs": [
    {
     "data": {
      "text/html": [
       "<div>\n",
       "<style scoped>\n",
       "    .dataframe tbody tr th:only-of-type {\n",
       "        vertical-align: middle;\n",
       "    }\n",
       "\n",
       "    .dataframe tbody tr th {\n",
       "        vertical-align: top;\n",
       "    }\n",
       "\n",
       "    .dataframe thead th {\n",
       "        text-align: right;\n",
       "    }\n",
       "</style>\n",
       "<table border=\"1\" class=\"dataframe\">\n",
       "  <thead>\n",
       "    <tr style=\"text-align: right;\">\n",
       "      <th></th>\n",
       "      <th>Age</th>\n",
       "      <th>Education</th>\n",
       "      <th>Obligation_Rating</th>\n",
       "      <th>NEP</th>\n",
       "      <th>Vacation_Behaviour</th>\n",
       "    </tr>\n",
       "  </thead>\n",
       "  <tbody>\n",
       "    <tr>\n",
       "      <th>Age</th>\n",
       "      <td>1.000000</td>\n",
       "      <td>-0.174054</td>\n",
       "      <td>0.125080</td>\n",
       "      <td>0.081405</td>\n",
       "      <td>0.134629</td>\n",
       "    </tr>\n",
       "    <tr>\n",
       "      <th>Education</th>\n",
       "      <td>-0.174054</td>\n",
       "      <td>1.000000</td>\n",
       "      <td>-0.066768</td>\n",
       "      <td>-0.034149</td>\n",
       "      <td>-0.090441</td>\n",
       "    </tr>\n",
       "    <tr>\n",
       "      <th>Obligation_Rating</th>\n",
       "      <td>0.125080</td>\n",
       "      <td>-0.066768</td>\n",
       "      <td>1.000000</td>\n",
       "      <td>0.358657</td>\n",
       "      <td>0.519562</td>\n",
       "    </tr>\n",
       "    <tr>\n",
       "      <th>NEP</th>\n",
       "      <td>0.081405</td>\n",
       "      <td>-0.034149</td>\n",
       "      <td>0.358657</td>\n",
       "      <td>1.000000</td>\n",
       "      <td>0.266741</td>\n",
       "    </tr>\n",
       "    <tr>\n",
       "      <th>Vacation_Behaviour</th>\n",
       "      <td>0.134629</td>\n",
       "      <td>-0.090441</td>\n",
       "      <td>0.519562</td>\n",
       "      <td>0.266741</td>\n",
       "      <td>1.000000</td>\n",
       "    </tr>\n",
       "  </tbody>\n",
       "</table>\n",
       "</div>"
      ],
      "text/plain": [
       "                         Age  Education  Obligation_Rating       NEP  \\\n",
       "Age                 1.000000  -0.174054           0.125080  0.081405   \n",
       "Education          -0.174054   1.000000          -0.066768 -0.034149   \n",
       "Obligation_Rating   0.125080  -0.066768           1.000000  0.358657   \n",
       "NEP                 0.081405  -0.034149           0.358657  1.000000   \n",
       "Vacation_Behaviour  0.134629  -0.090441           0.519562  0.266741   \n",
       "\n",
       "                    Vacation_Behaviour  \n",
       "Age                           0.134629  \n",
       "Education                    -0.090441  \n",
       "Obligation_Rating             0.519562  \n",
       "NEP                           0.266741  \n",
       "Vacation_Behaviour            1.000000  "
      ]
     },
     "execution_count": 120,
     "metadata": {},
     "output_type": "execute_result"
    }
   ],
   "source": [
    "# For finding the pairs we need to draw corelation matrix\n",
    "\n",
    "df_num.corr()"
   ]
  }
 ],
 "metadata": {
  "kernelspec": {
   "display_name": "ckpcet_custom",
   "language": "python",
   "name": "python3"
  },
  "language_info": {
   "codemirror_mode": {
    "name": "ipython",
    "version": 3
   },
   "file_extension": ".py",
   "mimetype": "text/x-python",
   "name": "python",
   "nbconvert_exporter": "python",
   "pygments_lexer": "ipython3",
   "version": "3.12.9"
  }
 },
 "nbformat": 4,
 "nbformat_minor": 5
}
