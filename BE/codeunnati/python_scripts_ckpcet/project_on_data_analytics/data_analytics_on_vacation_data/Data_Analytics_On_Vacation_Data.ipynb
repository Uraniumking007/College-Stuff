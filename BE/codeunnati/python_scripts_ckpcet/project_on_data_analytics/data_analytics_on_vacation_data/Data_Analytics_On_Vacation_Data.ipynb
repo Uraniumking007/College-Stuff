{
 "cells": [
  {
   "cell_type": "markdown",
   "id": "a0583c3e-67fc-4395-b6d8-e8eabf91ac2d",
   "metadata": {},
   "source": [
    "# Data Analysis on Vacation Data\n",
    "\n",
    "### In this analysis we are going to describe the behaviour of multiple vacation plans."
   ]
  },
  {
   "cell_type": "markdown",
   "id": "5a48dc4b-65c0-4291-b9f7-83bf84b77025",
   "metadata": {},
   "source": [
    "### import required libraries"
   ]
  },
  {
   "cell_type": "code",
   "execution_count": 3,
   "id": "f0066ac7-83fb-4cb7-a9e6-2922f224e9c8",
   "metadata": {},
   "outputs": [
    {
     "name": "stdout",
     "output_type": "stream",
     "text": [
      "2.2.2\n"
     ]
    }
   ],
   "source": [
    "# import pandas as pd\n",
    "import pandas as pd\n",
    "\n",
    "# import numpy\n",
    "\n",
    "import numpy as np\n",
    "\n",
    "# import matplotlib =>\n",
    "\n",
    "import matplotlib.pyplot as plt\n",
    "\n",
    "# import seaborn\n",
    "\n",
    "import seaborn as sns\n",
    "\n",
    "print(np.__version__)"
   ]
  },
  {
   "cell_type": "markdown",
   "id": "bfb6f4e4-57a2-4d77-a24d-b5217347f801",
   "metadata": {},
   "source": [
    "# Load the Data"
   ]
  },
  {
   "cell_type": "code",
   "execution_count": 4,
   "id": "cb836463-b3fd-413e-8d43-2bc17fc78d73",
   "metadata": {},
   "outputs": [],
   "source": [
    "# Load the data file we have in folder\n",
    "\n",
    "df_vacation_data = pd.read_excel(\"vacation data.xlsx\")"
   ]
  },
  {
   "cell_type": "markdown",
   "id": "0925e198",
   "metadata": {},
   "source": [
    "# Data Overview"
   ]
  },
  {
   "cell_type": "code",
   "execution_count": 5,
   "id": "31fc763f",
   "metadata": {},
   "outputs": [
    {
     "name": "stdout",
     "output_type": "stream",
     "text": [
      "   Gender  Age  Education                  Occupation State  \\\n",
      "0  Female   25        6.0  Clerical or service worker   VIC   \n",
      "1  Female   31        8.0                professional    WA   \n",
      "2    Male   21        3.0                         NaN   NSW   \n",
      "3  Female   18        2.0                  unemployed   NSW   \n",
      "4    Male   61        3.0                     retired    WA   \n",
      "\n",
      "  Relationship_Status  Obligation_Rating Obligation_Category       NEP  \\\n",
      "0              single           4.800000                  Q4  3.200000   \n",
      "1             married           3.300000                  Q1  3.400000   \n",
      "2              single           3.400000                  Q2  3.066667   \n",
      "3              single           2.633333                  Q1  3.400000   \n",
      "4             married           3.400000                  Q2  3.733333   \n",
      "\n",
      "   Vacation_Behaviour  ... Life_style_of_the_local_people  \\\n",
      "0            2.066667  ...                             no   \n",
      "1            2.000000  ...                            yes   \n",
      "2            1.233333  ...                            yes   \n",
      "3            2.166667  ...                             no   \n",
      "4            1.724138  ...                            yes   \n",
      "\n",
      "  Intense_Experience_of_Nature Cosiness_or_Familiar_Atmosphere  \\\n",
      "0                           no                              no   \n",
      "1                           no                              no   \n",
      "2                           no                             yes   \n",
      "3                          yes                              no   \n",
      "4                           no                              no   \n",
      "\n",
      "  Maintain_Unspoilt_Surroundings Everything_Organised  \\\n",
      "0                             no                   no   \n",
      "1                             no                   no   \n",
      "2                             no                   no   \n",
      "3                             no                   no   \n",
      "4                            yes                   no   \n",
      "\n",
      "  Unspoilt_Nature_or_Natural_Landscape Cultural_Offers Change_of_Surroundings  \\\n",
      "0                                   no              no                     no   \n",
      "1                                   no              no                    yes   \n",
      "2                                   no             yes                     no   \n",
      "3                                   no              no                    yes   \n",
      "4                                   no              no                     no   \n",
      "\n",
      "  Income_Doller_k Expenditure_Doller_k  \n",
      "0            15.0                 39.0  \n",
      "1            15.0                 81.0  \n",
      "2            16.0                  6.0  \n",
      "3            16.0                 77.0  \n",
      "4            17.0                 40.0  \n",
      "\n",
      "[5 rows x 32 columns]\n"
     ]
    }
   ],
   "source": [
    "print(df_vacation_data.head())"
   ]
  },
  {
   "cell_type": "code",
   "execution_count": 6,
   "id": "3322d810",
   "metadata": {},
   "outputs": [
    {
     "data": {
      "text/plain": [
       "(1000, 32)"
      ]
     },
     "execution_count": 6,
     "metadata": {},
     "output_type": "execute_result"
    }
   ],
   "source": [
    "# Show the shape of the Data\n",
    "\n",
    "df_vacation_data.shape"
   ]
  },
  {
   "cell_type": "code",
   "execution_count": 7,
   "id": "1a49247a",
   "metadata": {},
   "outputs": [
    {
     "name": "stdout",
     "output_type": "stream",
     "text": [
      "First Number: 4\n",
      "Second Number: 5\n",
      "Addition: 9\n"
     ]
    }
   ],
   "source": [
    "# Make a small program utilised for adding two numbers\n",
    "\n",
    "# defining inputs and variables \n",
    "a = int(input(\"Enter First Number: \"))\n",
    "b = int(input(\"Enter Second Number: \"))\n",
    "\n",
    "# user define function to add two numbers\n",
    "def add(x,y):\n",
    "    # using self to use variable from parameters\n",
    "    print(f\"First Number: {x}\")\n",
    "    print(f\"Second Number: {y}\")\n",
    "    # returning addition of both number directly\n",
    "    return x+y\n",
    "\n",
    "print(f\"Addition: {add(a,b)}\")"
   ]
  },
  {
   "cell_type": "code",
   "execution_count": 8,
   "id": "d1c6f0ea",
   "metadata": {},
   "outputs": [
    {
     "name": "stdout",
     "output_type": "stream",
     "text": [
      "First Number: 4\n",
      "Second Number: 5\n",
      "Addition: 9\n"
     ]
    }
   ],
   "source": [
    "# Make a small program utilised for adding two numbers\n",
    "\n",
    "\n",
    "# user define function to add two numbers\n",
    "def add():\n",
    "    # defining inputs and variables \n",
    "    x = int(input(\"Enter First Number: \"))\n",
    "    y = int(input(\"Enter Second Number: \"))\n",
    "    # using self to use variable from parameters\n",
    "    print(f\"First Number: {x}\")\n",
    "    print(f\"Second Number: {y}\")\n",
    "    # returning addition of both number directly\n",
    "    return x+y\n",
    "\n",
    "print(f\"Addition: {add()}\")"
   ]
  },
  {
   "cell_type": "markdown",
   "id": "2c6007c6",
   "metadata": {},
   "source": [
    "**Interpretation**\n",
    " - we have 1000 observations(Rows)\n",
    " - we have 32 attributes (Columns)"
   ]
  },
  {
   "cell_type": "code",
   "execution_count": null,
   "id": "7aeb5a6d",
   "metadata": {},
   "outputs": [
    {
     "name": "stdout",
     "output_type": "stream",
     "text": [
      "<class 'pandas.core.frame.DataFrame'>\n",
      "RangeIndex: 1000 entries, 0 to 999\n",
      "Data columns (total 32 columns):\n",
      " #   Column                                Non-Null Count  Dtype  \n",
      "---  ------                                --------------  -----  \n",
      " 0   Gender                                1000 non-null   object \n",
      " 1   Age                                   1000 non-null   int64  \n",
      " 2   Education                             992 non-null    float64\n",
      " 3   Occupation                            941 non-null    object \n",
      " 4   State                                 1000 non-null   object \n",
      " 5   Relationship_Status                   996 non-null    object \n",
      " 6   Obligation_Rating                     1000 non-null   float64\n",
      " 7   Obligation_Category                   1000 non-null   object \n",
      " 8   NEP                                   1000 non-null   float64\n",
      " 9   Vacation_Behaviour                    975 non-null    float64\n",
      " 10  Rest_and_relax                        1000 non-null   object \n",
      " 11  Luxury_be spoilt                      1000 non-null   object \n",
      " 12  Do_sports                             1000 non-null   object \n",
      " 13  excitement_a_challenge                1000 non-null   object \n",
      " 14  Not_exceed_planned_budget             1000 non-null   object \n",
      " 15  Realise_creativity                    1000 non-null   object \n",
      " 16  Fun_and_entertainment                 1000 non-null   object \n",
      " 17  Good_company                          1000 non-null   object \n",
      " 18  Health_and_beauty                     1000 non-null   object \n",
      " 19  Free_and_easy_going                   1000 non-null   object \n",
      " 20  Entertainment_facilities              1000 non-null   object \n",
      " 21  Not_care_about_prices                 1000 non-null   object \n",
      " 22  Life_style_of_the_local_people        1000 non-null   object \n",
      " 23  Intense_Experience_of_Nature          1000 non-null   object \n",
      " 24  Cosiness_or_Familiar_Atmosphere       1000 non-null   object \n",
      " 25  Maintain_Unspoilt_Surroundings        1000 non-null   object \n",
      " 26  Everything_Organised                  1000 non-null   object \n",
      " 27  Unspoilt_Nature_or_Natural_Landscape  1000 non-null   object \n",
      " 28  Cultural_Offers                       1000 non-null   object \n",
      " 29  Change_of_Surroundings                1000 non-null   object \n",
      " 30  Income_Doller_k                       200 non-null    float64\n",
      " 31  Expenditure_Doller_k                  200 non-null    float64\n",
      "dtypes: float64(6), int64(1), object(25)\n",
      "memory usage: 250.1+ KB\n"
     ]
    }
   ],
   "source": [
    "# Show the basic info of the data\n",
    "\n",
    "# number of attributes that a  nnumerical and categorical\n",
    "# data inconsistencies\n",
    "# memory usage for data processing\n",
    "\n",
    "df_vacation_data.info()"
   ]
  },
  {
   "cell_type": "markdown",
   "id": "dc90ecbb",
   "metadata": {},
   "source": [
    "**Interpretation**\n",
    "\n",
    " - we have total 7 numerical columns and 25 categorical columns\n",
    " - memory usage is 250.1+ kb that means we do not require extra resources\n",
    " - After observing the output we can say that there are missing records in Data "
   ]
  },
  {
   "cell_type": "code",
   "execution_count": null,
   "id": "72c87c10",
   "metadata": {},
   "outputs": [
    {
     "data": {
      "text/html": [
       "<div>\n",
       "<style scoped>\n",
       "    .dataframe tbody tr th:only-of-type {\n",
       "        vertical-align: middle;\n",
       "    }\n",
       "\n",
       "    .dataframe tbody tr th {\n",
       "        vertical-align: top;\n",
       "    }\n",
       "\n",
       "    .dataframe thead th {\n",
       "        text-align: right;\n",
       "    }\n",
       "</style>\n",
       "<table border=\"1\" class=\"dataframe\">\n",
       "  <thead>\n",
       "    <tr style=\"text-align: right;\">\n",
       "      <th></th>\n",
       "      <th>count</th>\n",
       "      <th>mean</th>\n",
       "      <th>std</th>\n",
       "      <th>min</th>\n",
       "      <th>25%</th>\n",
       "      <th>50%</th>\n",
       "      <th>75%</th>\n",
       "      <th>max</th>\n",
       "    </tr>\n",
       "  </thead>\n",
       "  <tbody>\n",
       "    <tr>\n",
       "      <th>Age</th>\n",
       "      <td>1000.0</td>\n",
       "      <td>44.168000</td>\n",
       "      <td>14.539228</td>\n",
       "      <td>18.000000</td>\n",
       "      <td>32.000000</td>\n",
       "      <td>42.000000</td>\n",
       "      <td>57.000000</td>\n",
       "      <td>105.0</td>\n",
       "    </tr>\n",
       "    <tr>\n",
       "      <th>Education</th>\n",
       "      <td>992.0</td>\n",
       "      <td>4.813508</td>\n",
       "      <td>2.422252</td>\n",
       "      <td>1.000000</td>\n",
       "      <td>3.000000</td>\n",
       "      <td>6.000000</td>\n",
       "      <td>7.000000</td>\n",
       "      <td>8.0</td>\n",
       "    </tr>\n",
       "    <tr>\n",
       "      <th>Obligation_Rating</th>\n",
       "      <td>1000.0</td>\n",
       "      <td>3.734767</td>\n",
       "      <td>0.635777</td>\n",
       "      <td>1.000000</td>\n",
       "      <td>3.366667</td>\n",
       "      <td>3.800000</td>\n",
       "      <td>4.200000</td>\n",
       "      <td>5.0</td>\n",
       "    </tr>\n",
       "    <tr>\n",
       "      <th>NEP</th>\n",
       "      <td>1000.0</td>\n",
       "      <td>3.648600</td>\n",
       "      <td>0.561135</td>\n",
       "      <td>1.733333</td>\n",
       "      <td>3.266667</td>\n",
       "      <td>3.666667</td>\n",
       "      <td>4.066667</td>\n",
       "      <td>5.0</td>\n",
       "    </tr>\n",
       "    <tr>\n",
       "      <th>Vacation_Behaviour</th>\n",
       "      <td>975.0</td>\n",
       "      <td>2.962800</td>\n",
       "      <td>0.668347</td>\n",
       "      <td>1.233333</td>\n",
       "      <td>2.466667</td>\n",
       "      <td>2.944444</td>\n",
       "      <td>3.428571</td>\n",
       "      <td>4.9</td>\n",
       "    </tr>\n",
       "    <tr>\n",
       "      <th>Income_Doller_k</th>\n",
       "      <td>200.0</td>\n",
       "      <td>60.560000</td>\n",
       "      <td>26.264721</td>\n",
       "      <td>15.000000</td>\n",
       "      <td>41.500000</td>\n",
       "      <td>61.500000</td>\n",
       "      <td>78.000000</td>\n",
       "      <td>137.0</td>\n",
       "    </tr>\n",
       "    <tr>\n",
       "      <th>Expenditure_Doller_k</th>\n",
       "      <td>200.0</td>\n",
       "      <td>50.200000</td>\n",
       "      <td>25.823522</td>\n",
       "      <td>1.000000</td>\n",
       "      <td>34.750000</td>\n",
       "      <td>50.000000</td>\n",
       "      <td>73.000000</td>\n",
       "      <td>99.0</td>\n",
       "    </tr>\n",
       "  </tbody>\n",
       "</table>\n",
       "</div>"
      ],
      "text/plain": [
       "                       count       mean        std        min        25%  \\\n",
       "Age                   1000.0  44.168000  14.539228  18.000000  32.000000   \n",
       "Education              992.0   4.813508   2.422252   1.000000   3.000000   \n",
       "Obligation_Rating     1000.0   3.734767   0.635777   1.000000   3.366667   \n",
       "NEP                   1000.0   3.648600   0.561135   1.733333   3.266667   \n",
       "Vacation_Behaviour     975.0   2.962800   0.668347   1.233333   2.466667   \n",
       "Income_Doller_k        200.0  60.560000  26.264721  15.000000  41.500000   \n",
       "Expenditure_Doller_k   200.0  50.200000  25.823522   1.000000  34.750000   \n",
       "\n",
       "                            50%        75%    max  \n",
       "Age                   42.000000  57.000000  105.0  \n",
       "Education              6.000000   7.000000    8.0  \n",
       "Obligation_Rating      3.800000   4.200000    5.0  \n",
       "NEP                    3.666667   4.066667    5.0  \n",
       "Vacation_Behaviour     2.944444   3.428571    4.9  \n",
       "Income_Doller_k       61.500000  78.000000  137.0  \n",
       "Expenditure_Doller_k  50.000000  73.000000   99.0  "
      ]
     },
     "execution_count": 37,
     "metadata": {},
     "output_type": "execute_result"
    }
   ],
   "source": [
    "# justify the basic statistics of the data\n",
    "\n",
    "df_vacation_data.describe().T"
   ]
  }
 ],
 "metadata": {
  "kernelspec": {
   "display_name": "ckpcet_custom",
   "language": "python",
   "name": "python3"
  },
  "language_info": {
   "codemirror_mode": {
    "name": "ipython",
    "version": 3
   },
   "file_extension": ".py",
   "mimetype": "text/x-python",
   "name": "python",
   "nbconvert_exporter": "python",
   "pygments_lexer": "ipython3",
   "version": "3.12.9"
  }
 },
 "nbformat": 4,
 "nbformat_minor": 5
}
